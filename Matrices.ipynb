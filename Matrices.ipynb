{
  "nbformat": 4,
  "nbformat_minor": 0,
  "metadata": {
    "colab": {
      "name": "Matrices.ipynb",
      "provenance": [],
      "authorship_tag": "ABX9TyPjofECX4VOFpp6S6AQFyhg",
      "include_colab_link": true
    },
    "kernelspec": {
      "name": "python3",
      "display_name": "Python 3"
    },
    "language_info": {
      "name": "python"
    }
  },
  "cells": [
    {
      "cell_type": "markdown",
      "metadata": {
        "id": "view-in-github",
        "colab_type": "text"
      },
      "source": [
        "<a href=\"https://colab.research.google.com/github/CmilAmaya/Python-/blob/main/Matrices.ipynb\" target=\"_parent\"><img src=\"https://colab.research.google.com/assets/colab-badge.svg\" alt=\"Open In Colab\"/></a>"
      ]
    },
    {
      "cell_type": "code",
      "execution_count": null,
      "metadata": {
        "colab": {
          "base_uri": "https://localhost:8080/"
        },
        "id": "oW5l_bcfTLd4",
        "outputId": "da85aaa7-a88c-4975-e5aa-d0d15955d416"
      },
      "outputs": [
        {
          "output_type": "stream",
          "name": "stdout",
          "text": [
            "[[0, 0], [0, 0], [0, 0]]\n"
          ]
        }
      ],
      "source": [
        "def creartriz(n,m):\n",
        "    matriz=[]\n",
        "    for i in range(n):\n",
        "        a = [0]*m\n",
        "        matriz.append(a)\n",
        "    return matriz  \n",
        "M = creartriz(3,2)\n",
        "print(M)\n"
      ]
    },
    {
      "cell_type": "code",
      "source": [
        "camino = [[ 8,  1,  6],\n",
        "          [ 3,  5,  7],\n",
        "          [ 4,  9,  2]\n",
        "          ]\n",
        "\n",
        "def imprimir_columnas(matriz):\n",
        "    for columna in range(len(matriz[0])):\n",
        "        for fila in range(len(matriz)):\n",
        "            \"print(matriz[fila - (columna % 2) * (fila + fila + 1)][columna], end=\" \")\"\n",
        "            print(matriz[fila], end=\" \")\n",
        "            print(matriz[columna])    \n",
        "        \"print()\"\n",
        "\n",
        "imprimir_columnas(camino)"
      ],
      "metadata": {
        "colab": {
          "base_uri": "https://localhost:8080/"
        },
        "id": "6UvrFxMNREMR",
        "outputId": "2831f2ce-7062-4a99-ab2b-d15f604b6b44"
      },
      "execution_count": null,
      "outputs": [
        {
          "output_type": "stream",
          "name": "stdout",
          "text": [
            "[8, 1, 6] [8, 1, 6]\n",
            "[3, 5, 7] [8, 1, 6]\n",
            "[4, 9, 2] [8, 1, 6]\n",
            "[8, 1, 6] [3, 5, 7]\n",
            "[3, 5, 7] [3, 5, 7]\n",
            "[4, 9, 2] [3, 5, 7]\n",
            "[8, 1, 6] [4, 9, 2]\n",
            "[3, 5, 7] [4, 9, 2]\n",
            "[4, 9, 2] [4, 9, 2]\n"
          ]
        }
      ]
    },
    {
      "cell_type": "code",
      "source": [
        "camino = [[ 8,  1,  6],\n",
        "          [ 3,  5,  7],\n",
        "          [ 4,  9,  2]\n",
        "          ]\n",
        "\n",
        "def imprimir_columnas(matriz):\n",
        "    for columna in range(len(matriz[0])):\n",
        "        for fila in range(len(matriz)):\n",
        "            print(matriz[fila - (columna % 2) * (fila + fila + 1)][columna], end=\" \") \n",
        "        print()\n",
        "\n",
        "imprimir_columnas(camino)"
      ],
      "metadata": {
        "colab": {
          "base_uri": "https://localhost:8080/"
        },
        "outputId": "c844f99a-9069-4b33-8e2a-f986bd64f414",
        "id": "IS9HJBmjOWkv"
      },
      "execution_count": null,
      "outputs": [
        {
          "output_type": "stream",
          "name": "stdout",
          "text": [
            "8 3 4 \n",
            "9 5 1 \n",
            "6 7 2 \n"
          ]
        }
      ]
    },
    {
      "cell_type": "code",
      "source": [
        "b = [[ 8, 1, 6],\n",
        "    [ 3, 5, 7],\n",
        "    [ 4, 9, 2]]\n",
        "a = []\n",
        "n=5\n",
        "for i in range(3):\n",
        "     a.append([])\n",
        "     for j in range(3):\n",
        "           if(b[i][j]<=n):\n",
        "                a[i].append(0)\n",
        "           else:\n",
        "                a[i].append(1)\n",
        "print(b)\n",
        "print(a)"
      ],
      "metadata": {
        "colab": {
          "base_uri": "https://localhost:8080/"
        },
        "id": "zvA7E8p9YfKo",
        "outputId": "3b0ec316-5c16-4dd2-d4e9-59318d955120"
      },
      "execution_count": null,
      "outputs": [
        {
          "output_type": "stream",
          "name": "stdout",
          "text": [
            "[[8, 1, 6], [3, 5, 7], [4, 9, 2]]\n",
            "[[1, 0, 1], [0, 0, 1], [0, 1, 0]]\n"
          ]
        }
      ]
    },
    {
      "cell_type": "code",
      "source": [
        "a = [[1, 2, 3], \n",
        "     [4, 5, 6], \n",
        "     [7, 8, 9]]\n",
        "s = 0\n",
        "for i in range(len(a)):\n",
        "    for j in range(len(a[i])):\n",
        "        s += a[i][j]\n",
        "print(s)"
      ],
      "metadata": {
        "colab": {
          "base_uri": "https://localhost:8080/"
        },
        "id": "_zfhiu0ZUN29",
        "outputId": "c2f79200-1ba1-4343-b051-c0f2973975a7"
      },
      "execution_count": null,
      "outputs": [
        {
          "output_type": "stream",
          "name": "stdout",
          "text": [
            "45\n"
          ]
        }
      ]
    },
    {
      "cell_type": "markdown",
      "source": [
        "![sistema de ecuaciones invertibles.jpg](data:image/jpeg;base64,/9j/4AAQSkZJRgABAQAAAQABAAD/2wCEAAUDBAgICAgICAgJCAgICAkICAgICAkICAgICAgICAgICAgIChALCAgOCQgIDRUODhERExMTCAsWGBYSGBASExIBBQUFCAcIDgkJDxINDQ0SEhISEhISEhISEhISEhISEhISEhIVEhISEhISEhISEhISEhISEhISEhISEhISEhISEv/AABEIAWgB4AMBIgACEQEDEQH/xAAdAAEAAgIDAQEAAAAAAAAAAAAABgcFCAECBAMJ/8QAVBAAAQQBAgIFBwgGBQkECwAAAQACAwQFBhESIQcTGDFVFCJBUWGl1BUyUnGBkaGxCCNCkpXhFiQzYtEXNENXcpTB0vAlc6SyJjVEU2V1goOTtMT/xAAcAQEBAQEAAwEBAAAAAAAAAAAAAQIDBAUGBwj/xAA7EQACAgAEBAMHAgQEBwEAAAAAAQIRAwQSIRMxUWEFQYEGFCJxkaHwMlJCscHhBxUzYiM1U3KSotEX/9oADAMBAAIRAxEAPwDTJERAEREAREQBERAEREAREQBERAEREAREQBERAEREAREQBERAEREAREQBERAEREAREQBERAEREAREQBERAEREAREQBERAEREAREQBERAEREAREQBERAEREAREQBERAEREAREQBERAEREAREQBERAEREAREQBERAEREAREQBERAEREAREQBERAEREAREQBERAEREAREQBERAEREAREQBERAEREAREQBERAEREAREQBERAEREAREQBERAEREAREQBERAEREAREQBERAEREAREQBERAEREAREQBERAEREAREQBERAEREAREQBERAEREAREQBERAEREAREQBERAEREAREQBERAEREAREQBERAEREAREQBERAEREAREQBERAEREAREQBERAEREAREQBERAEREAREQBERAEREAREQBERAEREAREQBERAEREAREQBERAEREAREQBERAEREAREQBERAEREAREQBERAEREAREQBERAEREAREQBERAEREAREQBERAEREAREQBERAEREAREQBERAEREAREQBERAEREAREQFrdnjWPhHvDHfFp2eNY+Ee8Md8Wt/P5/mi9b75PojxePLsaB9njWPhHvDHfFp2eNY+Ee8Md8Wt/ET3yfRDjy7GgfZ41j4R7wx3xadnjWPhHvDHfFrfxE98n0Q48uxoH2eNY+Ee8Md8WnZ41j4R7wx3xa38RPfJ9EOPLsaB9njWPhHvDHfFp2eNY+Ee8Md8Wt/ET3yfRDjy7GgfZ41j4R7wx3xadnjWPhHvDHfFrbfXWu8hFlIsJhKla3knQC3N5bI+KsysSGAh7Bv1vG5vI+glZXTOfyzoMiMtRhrXKELpR5K576c44HPaIpHbFx5c/UunvOJV0vz1LxZdjTPs76x8H94Y34tcdnjWPhHd/wDEMd8Wtq8d0sk6dZmrNZjJ5t469eIl0bpzvwNcTzDe5ezTWo9Umaqcni6DKdtheySjNJNNHuzij61rmgNBJ2Ke8Ynml+epeLLsak9njWPhHvDHfFp2eNY+Ee8Md8Wtndf621hiIzZfjMO+q6dsEJ8pk64mT5pe0N2HtWYwmodUiu+5ksfio6og65nktmR8pJG4a5rhy9CvHxKv4a/O44kuxqV2d9Y+Ee8Mb8WnZ41j4R7wx3xa2a0frPWuWpxX6mKwnk85d1fXXJmybMcWniaG9+4WQ6Y+kfKYCni3xUatm/em8nmgLnmGOTqy8iJw5uHLvTj4l18P56jiS7GqvZ41j4R/4/HfFp2eNY+Ee8Md8Wt4NA6jjy+OgvRbASl0b2jubNG7gmYD/deCPsVddIfTHYx+YqY+nTisVJLTKVyxKXB8Nh5/s2FvLcR8+fqUjmMRuqX56hYsuxrJ2d9Y+Ee8Mb8WnZ41j4R7wx3xa3Y6QtUNxOLnyPAJHRhnVxOJ/WPkPC0bDn3kfesV0P63mzMFkW4I6t+nK2K1XicXMY57eOPbi57lhaT9ae84lXSJxZdjTzs76x8I94Y74tOzxrDwj3hjvi1v2/kCfSGuP7rS7Y/cqY0pr7WGXjnsY7FYY14pnxNNi1K2R3VvcwbtDe88KQzOJJeX56lWLJ9DWvs8aw8I94Y74tOzxrHwf3hjvi1uL0a6+GTmloXYDSy1YE2K2xETg3vlrOdzfCSNg72FRLAa+1ZlJbjcZjMQ6CrPJEH2rMrJHcDywEhreR5J7xidF+eoWJPsaz9njWHhA/iGN+LTs76x8I94Y74tbzaVlyT4AcrDWgtellR7pIf3nAFQ3pK1xlqOToYvE06lme8XAOuyPjY0tZx/OYOXcfuUWZm3W356kWNJvyNS+zxrHwf3hjvi07PGsfB/eGO+KW5Wjrmp3zluZp4utUDHbyUrEksof+yC14ADfao/N0hZfI3LNXTNCraiplzLNvIyPhrmZh4XRQSRjZ7h37J7ziX/AA/nqXiy7GqvZ31j4P7wxvxadnjWHhHvDG/FrbaPW+Wr0si/JY6OG/j2tf8AqS91CwHNLx1Mzhu7bbYqV9Hubfk8TjsjIxsUl2qyw+JhLmMLwTwtJ2JH3KvM4nOl+epOLLsaPdnjWPhHvDHfFJ2eNY+Ef+Px3xa3H6P9ZzZO9k6ksDIm0CwRvjLi6TicWnjB7u70LAdJ/SnYxWUqUKtSOxC6IzXrErnNFaMOAeGlvLj257H1KLM4l1SLxZGq/Z41j4P7wx3xadnjWHhHvDG/Fre2XL12U233yCOsYRPxkgDgc3ibz9ZCrPH651RlRNbweJoHGcX9Vkycsle1M0DYkxsBG24P4KxzOJLp+eoWLJ9DV7s8ax8I94Y34tOzxrHwj3hjfi1tnqLpGuU8ZVtvoBlt9nyW1BPxMjErWgufWd3vi58ie9ZTpD16zE16m0DrN6+xhqVYwXcb3AcRIHPqmlw3PoAKe8YnRfnqTiy7GnHZ41j4R7wx3xadnjWPhHvDG/FraTJar1pRhNy/iMU6nFs+y2lYlltCId5ijLdnP9i9evulUU9PtzmNhZaDnNY2OYluzy4NcxwZz4wXbbJ7xiXVL89S8SXY1Q7PGsfCPeGN+LTs8ax8I94Y34tbldF2txmsYbT4mwXYBw3awJ4a8xHE2Pc8+bOE8/WsBhek2zY09ls0asLZ8dcnqxwBzuqkEM3VNc955gn07J7xidF+eo4kuxqp2eNY+Ee8Md8WnZ41j4R7wx3xa2m05qXW96GC0zF4RtebY87kwkDAeZ24fnbFe3WOu8lFka+FxNSrayxrMt2m2pHx04oZOIDgkaOJz+JruSvvGJdbfnqOJLsamdnjWPhHvDHfFp2eNY+D+8Md8Wt1NC5bKTmxBlqcVW3XLOJ1VzpKkofuR1Mjhu4j0+pShc3m5ryRONLsaB9njWPhHvDHfFp2eNY+Ee8Md8Wt/EU98n0ROPLsaB9njWPhHvDHfFp2eNY+Ee8Md8Wt/ET3yfRDjy7GgfZ41j4R7wx3xadnjWPhHvDHfFrfxE98n0Q48uxoH2eNY+Ee8Md8WnZ41j4R7wx3xa38RPfJ9EOPLsaB9njWPhHvDHfFp2eNY+Ee8Md8Wt/ET3yfRDjy7GgfZ41j4R7wx3xadnjWPhHvDHfFrfxE98n0Q48uxoH2eNY+Ee8Md8WnZ41j4R7wx3xa38RPfJ9EOPLsP5/mifz/ADReIcQiIgCIiAIiIAhP5ogKAr3pJ6NzkrcGUx1zyDMVmhjJuLihfGOYZPC0/rGb+grFaV1nkZvlrCZkMkv0KcpNmBjYoJo5YXuaWxAksIA5rOao0DZsXHXcbmrOHlfH1cwgiZM2Qb7kkSghp+pd9G9HENBl6Sa1JeyGQifFayMrGsle1zXMZ+rbs0cLXbcgu6ktO7N2q3Id0NaaqZfScFK6SIpB5rmP6uRsnMAxu33D/q9S+TMhn9IPo1r1qPK4ixM+GPhj4LVVm+0PXTPdvL3tGwClNfophjxNbFx3pWyUZ22al4N2lhsM3LJeDufsfQeS+VXosnmtVrOazljNMqOdJBBPBHC1khGxfvEBufrV1q3uqLaOv6R53w1c+u/WI/8Aq5qSZUf9gbbD/MWf+TvX16QNKMzFSOpJM6Bsc8c4e0cRJi5Bmx9CyFrENfRNHrCG9QIes287Zo4eLb1+xc01SXczexTPQTjNWOwtF9LLY6HH9Y/grzUDJYEXWnjBmDu8+g7LLdPrHeW6SbLs9xy5Eh22a4mu8EhvoHNenBdE2XoV2VKWr7teswuMcLacBEfES47FzdyN1JNR6B+UPkV1m/JJPh7Asmbq273JAwxkvA+ZvvvyXXXHXf8AJG9SsgGnc8zSt3N4iZ21UNNrFbnbrJ7LXTzNbv3nrXEbfUoxqHDvhwOAv2A4XMvqOrdtNfzeyUtLeDf6gFbfSn0VUtQzUZ55XQyUnh4LG7mXZwds8+geaFmOkPRkWZioQuldWbj7sV1gjaHcZiGwjcD3A794TiR2a9RqRWHT7q2gzJ4LGXbIr1GOdYyJLXSAx8LXQAhnMecPwWN0/wBIuHi1gHY2yJ6eWj/rLmsfG3yxojggHnjmeFv4K2dO6Br1cpcyskvldi3DFBtNG1zYWQlxaGAjbnxH7k6Tej6tm4azONtKWraisx2IIWB+8TuMM5DuJCqnH9I1LkTGZuweD9CT/wAjlU36LoPyZa23/wA7n229fXyK1YY3NjDHPLyGFjnkbFxLS0u29fPdVPheh/JUBNHj9V3KcEsj5OqZUgc1pe4v2Be0nkXFcYNU1dGFVUfDIOZL0hxeT+c6PCxiy6M7tG0su7X7ftjnv9YUZ6IsfqWWbLOw+SoU4PLJeJlumbD9+udzDuIbK3+j7Q1XDiWRjnWL1lzn3L0nKWy9w2c9w7m+jkOXJRCl0R5CpNZkx2qLdFlmV8r4Y6sL2tc95fsHPaSRuV2U1y7Lc2pIszAxW2VYW35WT3A0eUTQs6uKR+/zo4/2B7FTvTJBkJdU4JmMsQ1rhdJ1U1mIzRNPVHfijBHFy39KtfSeLtU4OruZGTJy7/5xLG2JwHq4WDbbuUa6Q+jyXKXamQrZWbF2qfF1UsETZTuW8J5PBHd+a5YbSlZmL3PRQx+omU8g3LX6l1zq0og8iqms5riwgd7judysH+jIYvkewyM+c3Iziw3ucJxv1nE317+nZZ/R2lctStCxc1HaysIY5vks1aGNhc7ukLmNB3B9CxOW6LHNvT3sNlp8FJaH9aZXhjmZO8ncyOEoIa76lrVF2rX0LfkZvph54S+B5xbC9xYCCWjgcSS3vC6dBbg7TOCc0gt+Toue45eaeR9RX10hosU2WvLbb8rYvN4LdmdojdNHw8HB1bPNYOHcbgKJ1uiG7UE8GL1NbxtCWRz4qEVeKWOBrj/ZtfI0nhH1qLS1pvz5hVyPN0KTNbktS2BsY2AP4t/NPVPe5w37t+SrzTWu9P2o9TTZS+GWMpLJHTjdDI7qYDGGODCBtxcbSdwruqdHNaviJsTUmfW688U9po3lke87zOIPpeS771nNI6bqYyjWowwxuhqsLGOdCwvI33JJI333K0sSKsupIoKvqc5Xo9ylaEufNR4K0Q3PWOrQyNZHJt382jdXv0cPhdiaRgc10PUs4Sw8t9gHd3tWFwvRvXqZPIZCOY9TkohFPQMYEI2J4ng+slx/BYWDomuVDLHh9SW8TRed4qMVeKZkO/Mhr5ASdzzSUoy2uiSaexx+kq7ejQ5g7XNtwQduQ5HY9/sWK1BOGaz0y6zsIfk6w2B7ztGHGGLcbH0k9ylmW6Mq89CvRNmRr4p/KrFnbifbsFoD5XNPzCdu4LJa90HTzNWGvZ4my1RGatlo/WQyRcPDI3b2tB29iiklsRPyM/qCSOOrZfPyiELjJxHYbbes9/etXJ6z49EOc8EMk1A50bD6I3ZFpaR6wWkferdv9FmTuhsOT1VcyFIuBnqPrRRMsMHfG98bQ4A8vSs/rno9q5LGRYtj3Uq8EkL4+raHECCRsjW8+/fh239qsZRjtZU0iBarjOmM03Jx8TcZm2RRXYwfMZfljjjilA7mtDQN/rWD0a4HQ2pC1wLTl7hae8EG2eF3tHcVeesNOV8pRmoWQOCaERtftu6NwYGCVo+kNt1EtM9E8FDTtnTsdx74rUjpDaLAJGuLg7kwcuRCqxVp357F1JmD6L8Xq80aD25fGiiC0mA0D13U8Q42CXi+eW8t9lIOkjo3GSuQ5THW/IMxWa2OOYOLonRs34WTwtO8rNyeR9a8GH6Ms1Ujjig1jdZBCRwxeR19uHffg34d9lkM70eXJbDbVHP2sXYMDYbL4oWS+UuB3MrmyAhhO/oWXJarTX0I3ufDoy1lkpb1vCZkMffo8BNmuwRwTMlBczhiBPCdlZCh3R9oGPFPnsy2pMhkbJHlF+ZrWSShu/A0sbyGw9SmK5zab2My5hERYMhERAEREAREQBERAEREAREQD+f5on8/zRAEREAREQBERAEREACIiAIiIAuNlyiAIiLQAREWQEREAREQBAi6Tuc1j3Nbxuax7ms+m4NJa32bkAfaqkDuihfRprxmWhvGxE2jYxs5guQF+5jPDxlwJ5lm3Cd/au3RhraTONtzNqiCpBZlrQz8RJndC7Zzg09zeY5quDXMri0TIoiLJAiIgCIiAIiIAiIgCIiAIiIAiIgCIiAIiIAiIgCIiAIiIAiIgCIiAIiIB/P80T+f5ogCIiAIiIAiIgCIiAIiIAiIgCIiAIiIAiIgCIiAIiIAm+3P1EH7kRAa+9PuEsUsrUnx0rYGagPyRdYSRu+zu7ynYfthsewPtV4aXwkWNp16ULWtbXibG4tAHWSNGz5D/edsCVgOkbRBzE2LlFjqPk2/Hd24OLrera9vB/dJ4+/2KZPduSfaV1nO4pG5S2OERFyMBERAEREAREQBERAEREAREQBERAEREAREQBERAEREAREQBERAEREAREQD+f5on8/zRAEREAREQBERAEREAREQBERAERRXpR1m3BUH3nVn2gz/AETHhhP2lVK3SKlZKkUY6MtZQ52hHejjdXc7+0rPPE+E8wA5w79+9R3pj6Wq+m3RRuqPvSuaJJY4pBGYYDyEzif2d+S0oNuhpd0WSi8DspGKYuuIZGaotcJPMNMXWBu/r9Ch3RB0nw6ibKW1H0i3d0LJXh7p4R/pgB81u/LmooNqxTLARVvrfpDy+LM8n9GJ7NOAAm225GxrgTsCGEbrjR3SLl8iIZjpexXpzAuFt12NwDQdi4sA39a1w5VZdLLJRVHjOl3J3Rbkx2lrF2rTtTVX2G3Y2Bzq7nNkIYRvt5pKk+J6RqtvDzZeCNzxXZI6WsTwvY+PfijLj6dwRujw5LmNLJqign9Or8+Lx2UxuClyIyEDJ+obZjidXa/fk57h5223o9awH+V3IxZGnjb2mLFSa89zYT5ZHLsGAue57WjkA0E/cnCkNLLaRfG7P1UT5SC4MYXlvdvsNyN/WoLj+k6ObBXc6KTwynZmrGt1jeOUwu4OJr+4blYSbJRYCKE9D3SLW1LWlmhhfVmgkEU9aRwc6J5PLn+0COf2rHWelQNizEkeNllOILg9glaHT8MgYSzl5vfv9i1w3dDSyx0WO0tlmZCpDbiAa2doIaTvwnlxAn2HkofL0ow8OdkjpySxYESieQPAbPND3xR+on1qKLYosFFVWE6Ts7diing0fZdBLsWyeXwjzTt53Dtv3LJa/wCkizjLFGnDhpb9u7D1ogjsMj6rzuHhc53ed/UtcOV0XQyw0VeaW6S5ZskMVlsVLhbczQabZZ2zi087kxtcwbNIAJ5rrnekuwL0+Pw+HlzU1Qhtwx2GV215CA5jCXg8RIO/JThu6GlliosLo3PfKVd0xgfVljeYbFeQ7uhmaN3x8W2zwPpDkojB0tVn6gOD8leI9jwZEyDqZHBoJYGbcjxEt+wqKDd9iaWWQiFFkgREQBERAEREAREQBERAEREAREQBERAEREAREQD+f5on8/zRAEREAREQBERAEREAREQBERAFVH6Uv/qOT/bZ9vnN5K11Dul3R8ucx7qUM0cD3Fp6yRpc0bOB7h9S3htKSbLF0yE6Rss09qB9OU8FDLUW3oi7zY4RTgZ1jGnu3cSoJreF2RxWptQzcy8SY+kTz3otIfG8b9x4i7n7Ard6ZujT+kFCrXisCtbrdUxtk8Qb1DWgWIxw+cC8Dl6F9tV9HZtab+Qa0scBFcQCZzSWEjYcTg3mV3U1s/Pb7HXUk7Iv046jFPTmIptmZXmyEFJrZZXBjRExsfX8zy+busFms9hsPqHC2MZkK1iGWuMXNFWlbIN53NcZpGt7tiNt/ap7b6MhbyePuZF8NynjacdavRkZxxl4hbHLI9jvNO7m7j1J0gdEWKv0JK+PpUsbcO7q9uGs2MxSfsucWDcgc0Uo8gmuRmOmV4OCvFp3aWMIIPIjiBBTopP/AKPUfV1Enp/vuXfKaYsWcGMXJPGbHURwmxwkRkx7AuLe8781kdIYV9HGQUHyCR8MbmGRu/C7icTuAfRzXJtJV3MWqo196ONQakx+Izs+Lx9Ozj4sxedLLJM9t0PdM9sgigaOF4AJPf6FNMFjKUGjbs1KzJbZbgnlkmla1rjKQ50kZa3kA1xI+xTXoo0VJhad2rPNHY8rv2rYLGkNay05xDHB37Q4vwWE030ZWaePzOMFyN1S6XHHt4XA1TJxmbriT5wLnbjbuAXSU0266mnJNnp6Ms9Xxmi8RetSBkMGKje4k7cWwOwA9JXi6G8LZuT2NSZVv9bu8qUJJ4alZu4jfGD6ZIyCT7fYsdqnomylnD4LE18hUY3ERxiXyiF769t8YI2fGD50R3+afUs5jsTrdjoWyZbCmCPq2OZHQla7qWbDgYePZp4RsEemm01bYdUTvO/5rY/7l/5KhtLn/wBA8x/82ucv/vhX/kYDLDJECAZIy3iI3AcQBvt6u9V1iOjOeHTt3CG1GZrdya02wGuEbGzSB4Y5p58Q223XOEqVfIxEglKu/T8uH1DXLvI7xjrZOFo80yzvZHHOQPQxoPNSHoVbDbyOoRsJILEk3D6Wva53mkbej0qwa2lWuw3yRaLJmurvgc8dwLxw9Yzi+a4b7gqMdB3RjLpttpklttoTSO6kji4mRb7sa8nvcF0eInFvzNuSI30aZ44ihn8PYkcJMS+Q1y/5z3XuOWFrfWASAu9HCvqaByssw4bWQx8l256xPIPOJPf6llOlDohkzGVq5CG42rC2SOS9D53FadC9pi+byLQARz9an2u8H8o4q/jYi2A26rq7HEEsjJAAJaOZH+KjmtmvNkteRWPRRk9YjHUWxYzEmlwsHWuuSCcx7NBd1fDtxcPoXy6c5b7NR4R2Nhgnt+S+bHae6OHfrQTu9o371ltN6U1rQrw1IcxhuohAaOKjKXlo2B87j+dsFnc/om1cyeMyUlmEPpQdVOxrHDrXcfHxR+oLTcVK9itq7IVpqazltVMdn2toZPENE9WjW3fTk60Pi445XgOe4t4twspqHQ+bxWWs5rTr2Ti6DJdxdt3VwSSBrWNcx7RxucABspHrrQ0t3K4zL07DK1qjI4zGQFzZ4jG5gj2Hftxb8/SAsfkNMaqhns/JWZosqTc2MyEElixE4jZ3BIHANG/MclNafJr5PkE9zpi+lWGfB5HJPi8ms43jgvV+HhDLTWjjbHvzeBxDmeZVQX5sbDpaC03MVH5iK8bmzZ2GfqZLRndFtvv8w8Oysmz0MPdRipi4wus3nXs5I8OIul8YY6OD6A3a3v35BTWXo1wBgdE3DUA50BhEnk0fGCWcHWcW3z9+e6KcIhOKMzpLPR5SjVvxcmWYmyAfR39B9R5LKKEdDejLGCoy0Z7TLMYnLqhYHAxV9vNifxd7wfSFN1wlV7HN8wiIskCIiAIiIAiIgCIiAIiIAiIgCIiAIiIAiIgH8/zRRrpG1fFg6QuzQS2WumEDYYNusc955bb+hROp0xNbNUbkcHksRWtu4Y710RisCR5vEWOJ2J2H2raw21ZrS6stFEbzAIIIIDgdwAQ7mDu71hcubt6vsIP5KGThFyG+1o+tzR+G6Ae0faQPzUoHC43XYt+o/U4H79jyUC6M9Y2snkM5UnbE2PGXWVq5Y3gc5joxJvISeZ3JVUW0+xaJ4iev2e0fmueE+z6y5oH377LJDhFyWkfyIP5Fc8HtH7zf8eabg6ohK5DfWR37fOb/AIoDhFBOmTWFrDR459VsbjbyNenL1reICOZ/C8s9TtvSp0x24B7txutOO1la2OUXPD7W/a5oP3E7rC381NFeiptx9mWKRgcbzODyWIk/MeSeLi+xTSyIzKLtwf7Pq+c0fgTuovq/WVfGWKFaaKSR2QsMrROjc0NjfJ3F/P5vJVJstEmRdnsIJaSNx7QB9++y4LdufL7HNP5FSinCLkN9o+1zR+ZXPD6Nx+83b799kMnVEdy/kQR94XYs9rf3m/4qIHVEH1j7wPzRaAREWQEREAREQBERAERFoBERZAREQBERAEREAREQBERAEREAREQBERAEREAREQFW/pOve3DwOjZ1kgyMRjYXBvG7c7N4j83f1qEauy+Sy4xGCzdIYOvaLDDYbK24211YbIGEtP6g8hz9qtnpb0rPmKUNas+ON8VyOcul34Sxh5gbelePpP0LJlsRDUhlZFeqCN1SY78DJGlvGSRz4SG7LyMOaSXzOiaogXTzqKD5VxmDyEtpmHNUz2BQilltTS1+rbFwiv8ArGxkE77cu5eDo6zdGvn4K+no8n8nXI+qsRX4LLWwy8Lj1wlsjkCQ0bBT7WOisnO/HZahJXhz9GHyYiXc0ZoH8PWcY+dxEMCy2mpNXGY/KjMK2vwnbyJsgl4tjyO52Le5b1LTtX9zVopyhSxkeWss1ey/HlHW2eTWIH2fIXMMjvJw6WL9UzzeDkVMtW1XZ7UUWAkmfFiKmPZeeyCVzZLEge5v9qwhwaWgexerVmm9XZmI0Mh8isx77Ecrn1hILQZFJxM4XOJHHsAvXq3o7uxWqOT09YjjyVWBtKVl0nyaxUaS49ZwbOMhJPp22Utdd6JaI8cQzSmpMTDjZJRj846SGzVmlfYcDXifI1zHSElnnAb7LE6exEl12u4YXvjnbdEkDmEtd1gqsLRuFPtPaLytrKxZjUMlQ2KXF5DXx/F5Mx0jTG9zxJu4HhJPJe7o10ZYxmQzlueSOSLKW2WIWs3LmsbE1hEm/d3I5pJ9aQ1IgGV1rYsaQq1onEZS1IMVG4O3eLNYNMx39J2J+5YnpFyNSvkMdgcpNe+SK9XjsR0o557NiwGse0l8HntaCXfepbp3ogsVs/5e+wx2LisyXqtTfdzLk+7Zn8PcNxsN1IekDRd+TI18zhJYI8lAx0TorYJqTxyEcRlDfO4wGjZFOKZU1ZX/AETZqpBnn1MGzJHD2Kbi+PIV7LOqtb85BLYG+3Dy2Xz6EdDwZgW7OUsWLTKuRnNCJs8kXkzm2HOeXuaf1oJA5HuA2Vr6PfqkzvGYZiG1TE4M+T2yNlEh3HPjJBbsfwXl6HtHWcNXtQ2ZIpHT2ZZ2mLfYNllc8A7/ALWxCzKa3rsZcl5El1jkn08fdtsAc+tWfKwessbuBueS1fxWS05epS2srLmpc1JJJMyxXq3hAwgl8ETWxjgIB2G62rylGOzBNWmHFFPG6KRvrY4bFVfgtOavw8T6WKkxFmi2WSSGTItkNlokcT1bjGQOBvcFMKSSEGiC6rzdvIac0zPeY9ln5ZptkMjDG5wbNswlh7jw7LZGP5g9fAQPrLTw/jsq519o/LZmhiWWH04r9S/BcuiHiFYiF/E4QA899tuRVjtaQ3b0hvL1cQHm7+zfZZnJOq6sknsjWipVxceVs/0ujyDMnJbjFaeu+z5C7d36vikiPVRD5u4KnupZCzV+Miilf1AoR8LGyuMTvOOziAdnHu5rjVentY5eLyHIfIjKL7DJJHVhKLIjjfuOBznEdZw7faszN0fzMzGPuwTMNSjTZVAlJ69xjJPEduW3NdHJfY02ir89Xx0WcyEusY8g2WWaEULFJ9h1UsBaGdZ1B6uLYcO+/tXs6dNDYyTJYDbrHss3IIHuZaeWuhfvvwOB5O7uYUx1ph9Z5OOak9uDbRmlALgJTZEHH3gk7dbwd3tX3190aWZKWGhw8zPKsLYimhdeJ6uVsQO7JeHv5u9HsV1JNOwpbkU6cJauBhxWBrutQYq/Yn8sdG6W3cLYw17WxFpMp7z81R7BZrFY/L4x2mI8uRNJHWuw3a1zq3NkeA+YvsDhZsNyrU1lozKZWrUtzvqV9Q4+WSWo+vxeQkycIc2Tj87h4R+K9mnpNZiePy9mD8mHD1rqzZBOWjbct3O3F3qKa09ypqiARaYbmdW5anbsTGhDUZI6vHK+PrCZHNOz2ndvcF4Oj/Rbb2WzOBsW7DsJjHwmOmJXiZ7pw5zXG0Dx7NLe707q0NKaOs09QZLKyPjdWuVWwRMaT1rXNe5+7/ZsfwXGhNHWaGbzeTmkjdBknV3QNZv1jOoa4O6zflz4ht9SnE/l9zOpET6IJJqhz+JjvmGKnZl8ks2CZPI4g1oAc6Q7vA3Pf61V2t8hpuvW8qxM+XOaZci/rksNttKZzrAFg8T/ANUGOBdsN9uY2VyDoxnmOomWJ2NgzIkbG6InrYmycOxdvy35KP5Xo91ZcxkWEnlxEOPhfCWyVxJ5S9ld7XR9YXHYuIYN/rK1GUbNJommo9Iy56LD2/Ln1HVJYrT2xB20/A0jq3cJ+ad/T7FPm9wHqACgWp9MZqRmIjx15tVlOaM3mhxaLEDAQ9jdhz3Ox+xT0DYfn9fJcZHOXI5REXMyEREAREQBERAEREAREQBERAEREAREQBERAEREAREQBERAEREAREQBERAP5/mifz/NEAXGy5XB/wCIWZy0xbCVnO3sP4pw+w/issP+AXZfluL/AIjyhNx4XJtfq6Ht14Xe+r7GH4fYfxTb2H8VmEXL/wDS5f8AR/8Ab+xr/Kv932MPt7D+K5DT6Afs3WW+9VZktV3slnXYnGPENfGzMdk7R+cHDheIYxsQWuYSDv617DIe3eLmnLThJKEXKUnLZLvt5ukurZmXhqj/ABfYms12vGdpLEEZ+jLPGx32B7gV46Ofp2LElWCeOaaENMohLZGtDhu3d7N28wqb1VjcDZ1vfbqAV/JWYdr4PLJBHEJuvjaXNJIBdwF33q2+jTT2n6MU02CirMin4etkrPDmP4N9t3A8tua9v4j7XwyuXhiPCnKU4RknXwfF5av7cznDw+21ZnNvYfxQN9h/FR//ACmY4ZP5Le2xHIRu2xJEG1JOe2zJeLmSfYsnpnV0N+zZrxVrUYr/APtEsIZWmO5aRDKHHjIPsHevU4ntrm8OGqWWaWlSvV5PZPl5nReGx5avse0t9h/FGsPoB+7dZhVd006gu0shpqKpO+KO7knQWGt22mj6l7+B247t2hXw325xs7i8OGCk6k7ctvhTk/LsJ+GqKty+xOeH2H7iE29hWVaOQ+rmvJmqbrFeWFkz67pGFomj242b/tN39K8OP+I0tajPBS356n/8Nf5Wq/V9jG+XV+Lg8prh/d1Znj4+fo4S7ff7F6Nt/QSPX6/qPpVA9KOndKRRuq15Ip9Ql7BHZY4OtNl4uT5NjyHNW/Bl34LB1pMo6SzZghaybydollml9UbdxxHmF9BnPaxwwsOeFhOUsR0oy+FvvHncX1dfI4x8P3dyM/w+w/igb7D+Kw2N6QqNjEvzMDLEteMO442RA2A6M7SMMfF85p7xv6FkNA6rr5qjFkKsc0cE3F1YnYI3ngc5h80E8t2lepxfbjN4UJTnlqUJaG3LlLnT25nReGxf8X2PTt7D+Kbew/iudQakoY8MN65XqCQ7MM8rYw8+pvGeZWH/AMpunfGqH+9Rf8ymD7cZzGjqhlJSXVW19UiPw2K5yMvt7D+KEfX+K6ad1XjcgXNo3q1tzBu4QTNlLR6yGk7LLzcXC7g2L+E8O/dxbebv7N9lwxf8Q8bCnoxcBwfRtp/dGv8AK0+UvsYpzmt+c5rdzsA4hpJ9g9J5LsGn1H7v+tgqW6Q6WRjz2DmuXnu620zelHsa0buI7FjiA4kben1lTr9IvUFrG4C5ZqOcyYcDBK3via94DnfcSvdv2tm8TL4cIRk8xyduou6rlv6HNeH7N6uXYkwvVy7g8pr8f0BPGX7+rg4t916FSud6McNFp6TMVuFmSipOvMyQP6ySdkRlG5325uG23sVhdFGelyWGx1qbczOrMEjj3vfw83Fe78P8YWcl/wANOlJwk5bNSSvZeaf17Hj4+V4cbbtkoREXuzwwiIgCIiAIiIAiL5XLDIo5JZNgyNjpHE/RYC4/byWgfXZFV3R1l8pqCw/KNndTw7ZHMpwM5utMYeFz52uHm+eHDke7ZWiUlGitUEWM1Nm4cdWfanEjo2dzIhxSPPoaxvcXH1KM0elLHT485GGG3IOtMHkbYmm717eboup4vnfaii2KbJyi82LuCxCyYRyRCRod1czQyVu/PZ7QTsf8F7I4yfQs0KOhRVv0VZq7azGcrzzvlhrdX1MbtuGLdxB22+xWSWkclqUaDVHzllazznuZG36Ujmsb97jsukFuCTlFPDKR39VNHJt9jHFYDW2jossa7bNiQVoXl0tRoHVWgQRwSnv4fTyVR5XT0GD1fhq2no/J22q0779WEksaWPY1pcNzseElajBSXPcsYpmwKKF6m6Ssbjr1ejOyy42Zm122Yo2uqRTO/wBHLJv5rh6l9NbdIVPE2aVWxXtTPyDuGB9aIPjGxHnPJPIcwVnRIlEwRAOQ9oH48xyUbua/wUEjopszRilYS18b7DGvY4HYhw9BUSbISRFFP8pWnfHcd/vTVJKF2GxG2avKyaF43ZJGeJjx62n1I4tcy0fddHTM4uDjjEneI+NvWbevg332WN1ZnYsdUltSuA4QWxg/6SZ24ijHtc7YfaqN0RXtjW0Ni7I5093EGyYDv/VOKRv9XA9Q5d63GF7lUbNh0R3efrRczI/n+aJ/P80QBcH/AIhcoueL+h/JljzMsP8AD8lyvNeuw14zLPLHDE350kr2xsb9bnHYLyY3UNCyA6tdrWGuf1YdDYjkBf8AQHC4+d7F/M2YyuLKU8SMW46mrrbmz62DVIyqIi9fRs6TfNd/sn8iqN/RokL8rq17ubjkY99/ncomjn7FehVEdG39S1tn6g3EdtzbDQ35uzIG77+3dfVeBVLJZzD83hxfpGcWzhi/qj8/6Fiy3NPZG3YrytpWLVfdk4sRM42hpG7eKUcxv6lWvQ7EINV5+vjT/wBjsZA7gB3gZKWOMgi/ZDd/UrG1P0V4LJzGxcoNkmJ3MgfJG5x9ZMbhuszhdI46lUfRq1mw15Gua9jd93Bw2PE/fiPf613w/FsngZWeFCWJJ4sVFxlWmFNNyjvu9ttlz5k4bbT2Ka/SPsVZ340V2kRU7sb7tquQ1sUDHbyRhw5cW3pV16Xv1JYImVHtdGyGNw4eY4Xt3aS4ci4rxRaHxbMe7FiozyFzS10B3du13eC8niP3r36ZwFTG12VaUQgrx78MYJIG/tcd14viHieXx8nDAhrvCk9LdVKL3uW737cu5YwalfU+GtdNQ5Wt5LNPars6xsnWUrBrTcTN9h1jQTw8+YWvnTP0X0qd/TcTL2WkbbyboXunyDpnRt6l7+KBzm/qpd2gcQ9BK2gWHzum6V6SrNbgbLJSlM1Zzt94pS0t427enYp4B7RY3h89Lk+HU/hVc5RaT370XFwtaI3ozozp4uyy5BdytiRsT4xHdyDrEBEgAJdEWgFw9B9ClmeytejWlt2pBFBAwvlk2J4GDvOw5r3gL4260czHxSta+N7S17HDdrge8EFerzGfnm8dYmZbnyT8npXkvL7GlHSqRUPTHU09aw0+RYa0czoxNXt1gxll0uxMY3aOs5uA5FSzodEtrT2KffZ1lg1Wvl65u7hJz5ni5h2y+Vfof07HP5S3HMEodxgmSRzA4dx6su4fwWV1lqyPGdVEKlmxJP5kLa9d8kTXdzRK+MbRs9pX0GPnsPMYMMplHPEanrUp0nFJfpju9urv0OcYtPVIp/o4surDMafgdtasX55oGEEtZFPO50hcO7hLd1e+m8TFQqQ1IG8MULeFreXIuJe7u/vOJ+1RzQGkm17FnKWYx8oXmtbI7vLIWkujjHq24ipoAvC9oPEo5jEcYPZ05f7p0k38l5f3NYUKRB+lF72th4NPDPecd28UDep5fO/Xjb7lA/KZv9XI/wDyY/8A5FeZC5Wcj7QLLYSw3hqVeevEX2UkvsJYTbu/siv+i6V7pJePTIwXm/2gdXd1vP5v6gD8VYBTZdXt3BB7iNj9R716vP5xZrGeJp035W5feTb+50jGlRS/TddgZm9Ph0rATbZy427jznd/PkFbWZx1bIV5K87WzV5QWvbuHNP28xuFEMx0OadtzmzYxzZJ99+sMku4O++487l9ilWncBVx9YVKkfVQAuPBxOfzf848TiSvb57PZWWXwI4Ep8TCVbpJbtu0029vI5Qi03dblD9JmkMNiaU1Ghbv2bt5jqlajJddZgjdY3Zx9SG8MbWlwVs9H+BdjMVj6T+UkNWNs3/eAbOWQwOhsVRnks1qjGTykukkcXPJJ5kjjJ4fsWVyHzx9S+59mPHXms3DAi5TSTlKcquUqS5Lkl83Z6/PYenDb7o86Ii/TT0oREQBAir39IHUFzG4qrYozurzSZelWe9m27oJn8MjOYPIhajHU6LFW6LCRYLF6rxkr46rcnTkuEBprNsxmx1m25Z1QPFx9/JZ0/8AX/XrUaoNUFFel2RzcJkHNJBEJ7vaHBSpY/UtRtilbhdzD68v3iN234qx/UvmFzIZ+jSB/RLB7bbmCXfb0/1iXv8AarDVQ/ooWnHBmq7fehPJB7BxSPeA37HK3lrF/Uyy5s8GctVYYTLa6ssZu8MftuS3n5jTzJ9oVFdC1inVzmZks8cBme7JVo5nbtEMzg1kscffxnhPPvV2ZvTFC7Yr2rUAmnqbiu8ucBGCdz5oOzuYHevNldE4q1eiyU9Nj70Aa2KcbtLWt7m8LfNcOfcVYzSVMKWxIGPDgHg7hwDgfWD5wP2hQnVHRjSyVjyme/loHkEcFO++CH7GAKb/APXsQLnGVGbo1q6L+i+jay2agfkMtGysGcD4Mg6OV/E4g9c8Dd/2q/dI6chxcArwT2rDBz6y5MZ5v3yF3xGnaVSaexWgbFPa28okBO8nCdxv96yq3Oeo1KVkZ6RNWMxUEewbLbtvMNOAvawyygbkcTjsAG8+fqWF0djKeKJvZC5DPlbz29ZM17ZOAv5RxQNBJjABDT6yFm9ZaDxGZ6o5OoLJhO8ZL3s4SRty4COaxeE6IdOUp2Wa2OEc8fzHumlkDT6w17iN1U4152FVGK/SQxTf6P3bMUTBJS3u7tbwnrARvIf73ed19NKGPOz4y83Z9TGVI+qeQdrEs0LRKNvWxw/Fc6kz0mdNvCVatuGMvdWu2rVd8MQiadnvrOeOGfn3Kdafw8FCtFVrMDIomho2HziBzcfaTzV1VGi3SPePu9R9X/X/ABVR6hsyizMB0ei6A921riqjr+f9p5x359/NW4VzxH1/mucZUZTopPyqb/VkP36n/MrY004mpCTS+TzwN/qY4f1P9zzOR29iym59Z+9ce30qylZZSsr/AKUdG5fKWac2OyFSqyqSTBcrGxHLJxAse5gIBLSNwqTyWF1Ha1bNTfm6LMhLjSx9yGuY2iHrGExRx8e7Z9xvv7FtYD947vrURb0bYMZH5WFFvyj1pn8p438XWkbcXDvttt6F0hjaVT/kajOtiT4+F0cMMb39Y+OJjHyf+8e1oDn/AGkbr7oT60XA5j+f5on8/wA0QBG94RB/19a54v6H8mEVTqaN2f1UcRK9wx2IhbJcrtOzbD7Dd4TIP2mgtcvhpnEUjrOSPHxsgo4+iBJBCAyEXmyO3fwDkZOBzefsUs1F0aSzZc5ehkZMfLOxjLsbImSNtMYNmscX82bAu5j1r5YHooZTyb70N2TyaUcUtQtHnzE85DPvx8+XLu5L8gx/FMrGE4QxdK4TioU9p38Te1OTd6X05tH0kIOlsWUyQE7Agkd4BBI+sBd1CND6EOMyOSveWy2G3+r4YJN+CAR78mEnnuD+CnC+BzuFhYc9OFPWqTumt2t1T6Pa/M8uLfmeTKWXwwySshfO9jS5sUZAe8juaC7luqf6CwMhlcvl7RZDffKIjjyNp6LAwM4J/wBlznAB3L0FXUVRuiZC/XeZ6h36qJgbZa0DhMxgYWkkd52XvfBKllM1BKnw9WvspK4/KW3e9jli/qj8y8ggXKj+ttWU8RX8puF/V/RijMsh9bhG0cRaPSfQvncDAxMaahhpyk+SXNnZuluZ/dcqH2ekXGMqU7jXyzQ3mtfXEELpZHMf3PdGwFzW+1SqtMJGNeNwHNDgHAh2xG43B7j7F1zGRxsBXiRcd2t+q5/QiknyPqibKu/0htRXcVgrNyhJ1U8XBwycDZNt3tB813Lu3WshkZ5vHhgwpOclFN8rfXmJSUVZYmy5XlxcjnwQPdzc+GNzj63Oja4nb6yV6SvGxsJ4cnF802voVOwUC8OcykNKvJZncWxRNLnbDc8hvs0DmSsHpnXuOyOPlyNV7314GuMrTEWzMLBuWuiPnB+3oXk4WSzE4cWEG42laW1vkvUjkuTJUijegNaUs5XfaoOkfCyR0LjJEYyJGHZzdnekKSBccxgYmBiPDxIuMls09mvmItNWhum6xmRz9Ks/q7FytBJtvwTTxxv2PceF7gdvavN/TDE+J0v97h/51uOQzElccOTXVRY1Izq4K8mMyVe0wyVp4rDA7hL4ZGyNDu/hLmEjfZesrhPDlhyqSp9HsaOj5Gt5uc1o/vED814bubqQujZJYja+ZxbE3iDi9wG5AAVRfpSsjkOAgnlfHVsZiKGyWSugBhdHKXB0rHAtHIc9ws/o7o10tBdjt449fZrFxj/7TnuiMncOJjkne37wvpYeD5eGShmcaU7xFJqMIJrZ0tUm1Vvs9jg8R3Sos8LwZD54+pe8LwZD54+pew9gP+Zr/tZ43iX+j6o86Ii/dD54IiIAql/SxiEmArRklokzVBhc08Lmhz9i5p9Dh61bSiXSvomPUOObj5Z3V2Ntw2XPaNy4QncxDbm0nfv7wt4bqSbNRdOyuOmvRuNx2no8nSgZXyOOa2xBdZsLM8vIF0sg5yEglXThZeOrUe9w45KsD3bkBznOiaXHY8ydyVWz+ia3PJVjv52W5iacgfBi3V2Mb1YGzYnztAfIB6ySpDn9CeVZbH5Nt2SBlCN8babd+rla8BrS7n3tA9K6TaaSs02miZqJ9KuoLOOxs01Wm+5I5rozwcPDA144TLID3sAcTy5+aVLCV5cw5orWS/bhFeXi37turd61yjzMLmQjoBxMFXCV3Q2Y7TrPFLNYhBEb5C93zQ7mNt+Hn9EqwSfWQPrIAH1kqoP0US9+JnduTA+0/wAmaRsBGHuBDR6Rxbrw/pDZ+xcp36FGYww0o45r9lh4QWGVrRC2Qdzw4DcA7ro46p0acfiLtBHfv9vePvCKLdGMwbhKckjyQ2Elz3EkkN9JceZ5L46f6SMTedbbBLIHUtzOJozGeFvLij4v7RhPc4Lm4u9iOJL0WG0lqatlITPVbO2MOc3+sQvgcS07bta8AlvqPpWaawnuaXfUN9vrU86MnG/1oq8k1Df/AKWvxfWkUm1opBXLBvxva4udxbcXPYKxXMI72kfXy+7cKyjXMrTR1XBI9bQT6CQCfqHeV8rtqOGN80rgyONpc5zjsAB6z6Ce5a7aiy1y/qHDZB80kNOYyspVQXM3YyUMkc9o5uBI3BPoKsIaiqNmyJcT3nu7vUuqjOv9d47Bhj8g6RrXkD9VG6QsB/bkDfmR/wB48lzq/XOOxVSG9bfJ5LY4BHJFGZOcuwjDuHuJ4gppbJTJKi8+MuMswxzxb9XK0PZxAtdwn6TTzBXnv5yhXf1Vi9Vry7AmOaxHG8NPceFx32KlEMgixH9KsT4pR/3uL/Fe/HX69lhkrTxWIwS0yQSNlZxDvbxNOwKUy0ehcNe0nYPjJ9Qewnf6gd1jNVYya5VkrwWnU5HkbztaHuDP22AH1926ovpu0JWwOPgymLmsxZVlhrWyOtTyttSHvYIJHlgJ58gFuEU3zKlZsQi8eCle+pUkl/tJK0T5PXxuYC7ceg77r2LDIx/P80XB5P6v/SEFzY/2y36Qb3lvtXfqn/Qd+6U0sUzqn+IXbqn/AEHfulc9S/6Du8fslYxU9EvkzUVuZNvcPsXZGxu2+afuXbq3fRP3FfzNmsnjvGl8Ev1P+F9T6qElR0Tdd+rd9E/cnVu+ifuXjvJY/wCyX/izWpHxlHmu/wBk/kqL/Rp/WZfVkr/Of5fE3i9O3VAbfgr5MR+ifuVKnG3dN6is3Iqj58VnJ4+vdEHF1WyQ2OPzADuwnmTy2X0/gWWxJZbM4GlqeJhrTaq9MlJrfzaTrrXU44j3i/JF0qPa4mpxVpZrQZxdTJBE4gGTedpZ1cfp3cdgpH1Tvon7lH7ejakt5mQkjkfYjGzQ6RxhHLYHqSeDf27L1GQy2JhYurEjiRUekXbfTtfXf5HSUttio/0XTVrQ3IpnvjtVrzsfDDZP62Fp89sEYHc3c77D1q+N1F6nRzjoslLlWV3tuTO6x7uN3Vl/Lz+q+bx8vnd6lYid9E/cvO8fk85mXjYcMT4km1KL2lW6Xa/MxhfCqdGPzdA2q8kAnlrmRpaJoHcErN/2mO/Zctd/0iujp9LA2bD87mLYYWfqLVkywP3e0ee0j0LZjqnfRP3FYbWWlauWqSU70Lpa8m3GwEtJ4SCOY9oXT2f8Qzfh2PBuMuGpJyShbaXS1/UYsVJNf1IRpPozlh8ksnUOalDYoX9TLb4onDgaQxzNvmbctlZoKV63VsaxrSGsa1jRzOzWgNaPuAX06t3qP3LwPE8XOZ3E1YkZOrr4K2vskahpiv7nkvUop28E0bZG7g8LxuNx3HZUTpa+MXl9S0GPDJcjafNRgO/CZHMYwbN9XJXFrHU9bFRNltNnIeeFjYa8kzi48gNomnh5+k9yjejtJGzkHZ+5XLLMjDHViI36qF+zt3cv7Tl3+1e38Ghj5bL4ssWE+HONRVPeSaar1W76GJtSaprYkGgcAzG0o4GMDHPLp5mt7uvlPFKf3lIAuwid9Ernq3fRP3L5zMYWZxsR4koybbt7M6xaSpFQ9LUWPdfabWjrOef1LdrkNeORjW7naIue4EEd/wBqh3k2E/1aXf8AcYP+ZbH9W76J+4p1bvUfuK+oyfjuPl8GOFwMR6VVrExV9k6XocZYabu19EQbogZWFOXyXBS4CPr3b1J4mxvkdwgdcGsJBBHLf2KbLv1bvon7ihjd9E/cvnc/HHzONLF4clqd76pfeVt+p1jSVWRXWAwliSCllBVlkkPWV4LI4uJw83iYCNt+f4qnuknB1MLqDT7sBEyrYt2JGXKtXzY5IRGXNklY31u35lXFrjo+x+ZDPL4HvdGNmPikfDI3/ZkZs4fYvJozotxeJl6+rDM+bbYS2rEtp7f9h8xLm/YV9J4VmY5TA3eM3plF4Ti3BuSaTu/K7/TzXM5TVvavmTBncPqH5Lw5D54+pZHq3eo/cvDfheXjZju4egrv7C5fFj4lqcWlpfl50eP4j/o+qPIi79S/6Dv3SuOqf9B37pX7ZTPQUzqi7dS/6Dv3SnVP+g790ppYpnVF26p/0HfulOqf9B37pTSxTOqLt1T/AKDv3SnVP+g790pQo6qK9LcxZhcg5p2PUu2I5Hm1ylnVP+g790ry5jF+VV5q8kbnMmjewjhPe5paD3egndbimmVJ2Vv+j/Vl/oXjhUc2O1NUn6mR/wA0TGaQNe8jnsFXHSfpvVOM0tlmWpMM+nIY5rj4BJ5XI6Sww7s4uW/Ht9m6nPQ5ZuYN39G8hUmayu94x1tkb5I5oXOL/P4W7RHieRzPoVia50XUzVfyTIQzSV9+IxxufFud9xxFvztjty9i76nGd1zOl0yB9AeKywx7ZsrZrS0pYW+TV4S7hjj4dn9aHct+5Q3UAoSazqSR9ZDRlhjxrg0htaxNEXyGEg/OGx3VwxdHVBmNZiWRW20o3te1rbErZd2ncDrh53D6x6VxqTo3xmQrVqlmrKYqjg+ExPfFK14Gwc6Rg4i7blusKXxMnnZIqdqKZgdA9r4x+raWg8I4PNLR9W2yjeuNHPyjo3DK5HHdWOHgoTdU153+c8DvKkuPxwgjZDFE5rGNDWjhPcBtufWfavR1T/oO/dK5K1yMb2a0TdHjxq59I53L7itE7yvyne0Q5jjw8fqHq9qu/RGkji+sDsnkMj1h3/r83XFm3LZh9AXu/olVOQOVMMhuujbEZPO4eBgIaODu5blZrqn/AEH/ALpW5zlKtvsVtsg/S/p/LZKnFWxc1SLeTe227x9VNEObGAN9PEAqN6W6mp2ZzTsFl+JZaFOwyiavGK8bBIxrzPv+2Dwkfatquqf9B37pUM1R0VYrJ3Ysjcr2X24S0xPZPJG1mx3ADByA3HMelawpuOzX2LB15GOz2k55dPXa2SdFayU1AwT2Y9yHcg5zWE8wzfmobomZmoMNj8QHCaCOxvdcOfk76MgMAdv6yzu9isPUusWwTHGVK1mfIuj/AFTHV5BAAfMBdYLeAn2L09GWh48JTMEUbjJPI+ed/CR+smcZHN9oaSQrulv6DeiTRsDQGt2AaA0cuWwGyqfpRbjDkX+V6KtZ2Xqo98hDXjkjc3Y7RBz3A7s7vtVuGJ/0HfulctbIP2X/AGBy5xbTsibTujXrq8J/qwv/AO6Q/wDOrU6KfJRQcKeElwEPXv3ozxtje5+w3n4Wk8j3b+xTPaT1Sfc5dSx572PP1tcrKbkqr+Yk2/I8WTvRVoZJ5nBscTC95J23DRvwjf0nZVxi6Iy8wz2WcIsdW/XUK0zh1TGj5luRm/8Aa89tx61PNW6XgytR9K7FK6vIWl7YnPieeHu89nMBQc9AGALerMeTMWwHVHJWjFsDvw8HHw8Ps2VglXnfyCRZFeZkjGvjIcxwDmEdxaeYI9i+i6UqPUxRwxxubHExsbAQ4kNYNm7n0nZfXqn/AEHfulc9Jmj8/wCT9IPV7rrMicvvcjgfWZN5BjthDI4OczqhV6s7lo84t39qyPai11457rxPwSppF7qjzy5e1Frrxz3Xifgk7UWuvHPdmJ+CVNIpQLl7UGufHPdmK+CTtQa58cH8MxPwSppFngw6L6FsuXtQa58cH8MxPwSdqDXPjg/hmJ+CVNIpwYftX0Fly9qDXXjg/heJ+CQ/pP658bH8LxPwSptE4MOi+gsuTtQa58cH8MxPwSdqDXPjg/hmJ+CVNInBh+1fQWXL2n9c+Oe7MV8Enag1z44P4ZifglTSJwYftX0Fly9qDXPjg/hmJ+CTtQa58cH8MxPwSppE4MP2r6Cy5e1BrnxwfwzE/BJ2n9c+Oe7MV8EqaRODD9q+gsuQ/pPa4PfmwfrxeJP/APEue1BrnxwfwzE/BKm02WuFDovoSy5O0/rnxwfwzE/BJ2oNc+OD+GYn4JU0izwYftX0LZcvag1z44P4Zifgk7UGufHB/DMT8EqaRODD9q+gsuXtQa58cH8MxPwSdqDXPjg/hmJ+CVNInBh+1fQWXL2oNc+N+7MT8Enag1z44P4ZifglTSJwYftX0Fly9qDXPjY/hmJ+CTtQa68c92Yr4JU0uVpYcFyS+hC5O1Drrxz3Zivglz2otdeOe7MT8EqZRapAuXtRa68c914n4JO1Frrxz3XifglTSKUC5e1Frrxz3Xifgk7UWuvHPdeJ+CVNIlAuXtRa68c914n4JO1Frrxz3XifglTSJQLl7UWuvHPdeJ+CTtQ668c92Yn4JU0itAuXtQa57/lsb+v5LxO//wCknah11457sxPwSppEBcvah11457sxPwSdqHXXjnuzE/BKmkUpAubtRa68c92Yn4JO1Frrxz3ZifglTKK0gXN2otdeOe7MT8Enai11457sxPwSplFKQLl7UWuvHPdmK+CTtQ668c92Yn4JU0iUgXJ2n9c77/LY39fyXid/v8iXPai11457sxPwSppFaBcvai11457rxPwSdqLXXjnuvE/BKmkUoFy9qLXXjnuvE/BJ2oddeOe7MT8EqaRUFy9qHXXjnuzE/BJ2otdeOe7MV8EqaRAXL2otdeOe7MT8Enai11457rxPwSppFKAREVAREQBERAEREAREQBERAEREAREQBERAEREAREQBERAEREAREQBERAEREAREQBERAEREAREQBERAEREAREQBERAEREAREQBERAEREAREQBERAEREAREQBERAEREAREQBERAEREAREQBERAEREAREQBERAEREAREQBERAEREAREQBERAEREAREQBERAEREAREQBERAEREAREQBERAEREAREQBERAEREAREQBERAEREAREQBERAEREAREQBERAEREAREQBERAEREAREQBERAEREAREQBERAEREAREQBERAEREAREQBERAEREAREQBERAEREAREQBERAEREAREQBERAEREAREQBERAEREAREQBERAEREAREQBERAEREAREQBERAEREAREQBERAEREAREQBERAEREAREQBERAEREAREQBERAEREAREQBERAEREAREQBERAEREAREQBERAEREAREQBERAEREAREQBERAEREAREQBERAEREAREQBERAEREAREQBERAEREAREQBERAEREAREQBERAEREAREQBERAf/Z)"
      ],
      "metadata": {
        "id": "AKl1OV6Qf0yb"
      }
    },
    {
      "cell_type": "code",
      "source": [
        "import numpy as np \n",
        "A = np.array([[5, 3], [2, 1]])\n",
        "B = np.array([19, 5])\n",
        "x = np.linalg.solve(a,b)\n",
        "print(x)"
      ],
      "metadata": {
        "colab": {
          "base_uri": "https://localhost:8080/"
        },
        "id": "orUxtFEvc28i",
        "outputId": "0e303c0b-37b8-4d41-db4d-dd976aaff3c5"
      },
      "execution_count": null,
      "outputs": [
        {
          "output_type": "stream",
          "name": "stdout",
          "text": [
            "[2. 3.]\n"
          ]
        }
      ]
    },
    {
      "cell_type": "code",
      "source": [
        "import numpy as np\n",
        "def spiral_cw(A):\n",
        "    A = np.array(A)\n",
        "    out = []\n",
        "    while(A.size):\n",
        "        out.append(A[0])        \n",
        "        A = A[1:].T[::-1]       \n",
        "    return np.concatenate(out)\n",
        "\n",
        "for j in range(n-1,-1,-1):\n",
        "          print([j][i])"
      ],
      "metadata": {
        "id": "LOtCeOvZnUSl"
      },
      "execution_count": null,
      "outputs": []
    },
    {
      "cell_type": "code",
      "source": [
        "a = [[1, 2, 3, 4, 5, 6, 7, 8, 9]]\n",
        "b=[]\n",
        "n=3\n",
        "for f in range(1,n+1):\n",
        "    b.append(f)\n",
        "for c in range(6,3,-1):\n",
        "    b.append(c) \n",
        "print(b)\n",
        "    "
      ],
      "metadata": {
        "colab": {
          "base_uri": "https://localhost:8080/"
        },
        "id": "s5UXIMlX1S7C",
        "outputId": "bc97c0a2-7234-40b8-db45-ed52f3b3e0a9"
      },
      "execution_count": null,
      "outputs": [
        {
          "output_type": "stream",
          "name": "stdout",
          "text": [
            "[1, 2, 3, 6, 5, 4]\n"
          ]
        }
      ]
    },
    {
      "cell_type": "code",
      "source": [
        "import sys\n",
        "\n",
        "DERECHA, ABAJO, IZQUIERDA, ARRIBA = 0, 1, 2, 3\n",
        "i = 1\n",
        "direccion = DERECHA\n",
        "renglones = 3\n",
        "columnas  = 3\n",
        "matriz    = []\n",
        "for renglon in range (renglones):\n",
        "    matriz.append([])\n",
        "    for columna in range (columnas):\n",
        "        matriz[renglon].append(-1)\n",
        "renglon,columna = 0, 0\n",
        "while matriz[renglon][columna] == -1:\n",
        "    matriz[renglon][columna] = i\n",
        "    i += 1\n",
        "    if direccion==DERECHA:\n",
        "        if columna+1<columnas and matriz[renglon][columna+1] == -1:\n",
        "            columna += 1\n",
        "        else:\n",
        "            direccion = ABAJO\n",
        "            renglon += 1\n",
        "    elif direccion==ABAJO:\n",
        "        if renglon+1<renglones and matriz[renglon+1][columna] == -1:\n",
        "            renglon += 1\n",
        "        else:\n",
        "            direccion = IZQUIERDA\n",
        "            columna -= 1\n",
        "    elif direccion==IZQUIERDA:\n",
        "        if columna>0 and matriz[renglon][columna-1] == -1:\n",
        "            columna -= 1\n",
        "        else:\n",
        "            direccion = ARRIBA\n",
        "            renglon -= 1\n",
        "    elif direccion==ARRIBA:\n",
        "        if renglon>0 and matriz[renglon-1][columna] == -1:\n",
        "            renglon -= 1\n",
        "        else:\n",
        "            direccion = DERECHA\n",
        "            columna += 1\n",
        "print ('\\nResultado:')\n",
        "for renglon in range (renglones):\n",
        "    sys.stdout.write ('[')\n",
        "    for columna in range (columnas):\n",
        "        sys.stdout.write ('  {0:3}'. format (matriz[renglon][columna]) )\n",
        "    print ('  ]')"
      ],
      "metadata": {
        "id": "4qy0AxsKW2ai",
        "outputId": "a5c6d1e9-aed4-4094-9f57-73e057ed75bd",
        "colab": {
          "base_uri": "https://localhost:8080/"
        }
      },
      "execution_count": null,
      "outputs": [
        {
          "output_type": "stream",
          "name": "stdout",
          "text": [
            "\n",
            "Resultado:\n",
            "[    1    2    3  ]\n",
            "[    8    9    4  ]\n",
            "[    7    6    5  ]\n"
          ]
        }
      ]
    },
    {
      "cell_type": "code",
      "source": [
        "a = [\n",
        " [ 1, 2, 3 ],\n",
        " [ 4, 5, 6 ],\n",
        " [ 7, 8, 9 ]\n",
        "]\n",
        "def espiral(matrix):\n",
        "    r = []\n",
        "    fila_inicio = 0\n",
        "    fila_final = len(matrix) - 1\n",
        "    col_inicio = 0\n",
        "    col_final = len(matrix[0]) - 1\n",
        "\n",
        "    while fila_inicio <= fila_final and col_inicio <= col_final:\n",
        "        for i in range(col_inicio, col_final+1):\n",
        "            r.append(matrix[fila_inicio][i])\n",
        "        fila_inicio += 1\n",
        "\n",
        "        for i in range(fila_inicio, fila_final+1):\n",
        "            r.append(matrix[i][col_final])\n",
        "        col_final -= 1\n",
        "\n",
        "        if fila_inicio <= fila_final:\n",
        "            for i in range(col_final, col_inicio-1, -1):\n",
        "                r.append(matrix[fila_final][i])\n",
        "        fila_final -= 1\n",
        "\n",
        "        if col_inicio <= col_final:\n",
        "            for i in range(fila_final, fila_inicio-1, -1):\n",
        "                r.append(matrix[i][col_inicio])\n",
        "        col_inicio += 1\n",
        "\n",
        "    return r\n",
        "print(spiral_traversal(a))"
      ],
      "metadata": {
        "colab": {
          "base_uri": "https://localhost:8080/"
        },
        "id": "MIAmx52KcHnA",
        "outputId": "ac2cb1a0-b0c2-4175-cfab-72da371125b9"
      },
      "execution_count": null,
      "outputs": [
        {
          "output_type": "stream",
          "name": "stdout",
          "text": [
            "[1, 2, 3, 6, 9, 8, 7, 4, 5]\n"
          ]
        }
      ]
    },
    {
      "cell_type": "code",
      "source": [
        "import numpy as np\n",
        "a = [\n",
        " [ 1, 2, 3 ],\n",
        " [ 4, 5, 6 ],\n",
        " [ 7, 8, 9 ]\n",
        "]\n",
        "b = espiral(a)\n",
        "b = np.array(a).reshape(3,3)\n",
        "print(b)"
      ],
      "metadata": {
        "colab": {
          "base_uri": "https://localhost:8080/"
        },
        "id": "aUoTQxXPcMSb",
        "outputId": "5d11e7bc-d79c-4846-88b1-f0994f992e91"
      },
      "execution_count": null,
      "outputs": [
        {
          "output_type": "stream",
          "name": "stdout",
          "text": [
            "[[1 2 3]\n",
            " [4 5 6]\n",
            " [7 8 9]]\n"
          ]
        }
      ]
    },
    {
      "cell_type": "code",
      "source": [
        "import numpy as np \n",
        "a = np.array([1, 2, 3, 4, 5, 6, 7, 8, 9])\n",
        "    print(a.reshape(3,3))"
      ],
      "metadata": {
        "colab": {
          "base_uri": "https://localhost:8080/"
        },
        "id": "13GCTtRrQ81k",
        "outputId": "ebf335eb-dd00-47f9-ad56-e20c9efee350"
      },
      "execution_count": null,
      "outputs": [
        {
          "output_type": "stream",
          "name": "stdout",
          "text": [
            "[[1 2 3]\n",
            " [4 5 6]\n",
            " [7 8 9]]\n",
            "[[1 2 3]\n",
            " [4 5 6]\n",
            " [7 8 9]]\n",
            "[[1 2 3]\n",
            " [4 5 6]\n",
            " [7 8 9]]\n"
          ]
        }
      ]
    }
  ]
}
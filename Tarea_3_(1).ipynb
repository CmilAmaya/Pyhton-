{
  "nbformat": 4,
  "nbformat_minor": 0,
  "metadata": {
    "colab": {
      "name": "Copia_de_Tarea_3 (1).ipynb",
      "provenance": [],
      "collapsed_sections": [],
      "include_colab_link": true
    },
    "kernelspec": {
      "name": "python3",
      "display_name": "Python 3"
    }
  },
  "cells": [
    {
      "cell_type": "markdown",
      "metadata": {
        "id": "view-in-github",
        "colab_type": "text"
      },
      "source": [
        "<a href=\"https://colab.research.google.com/github/CmilAmaya/Python-/blob/main/Tarea_3_(1).ipynb\" target=\"_parent\"><img src=\"https://colab.research.google.com/assets/colab-badge.svg\" alt=\"Open In Colab\"/></a>"
      ]
    },
    {
      "cell_type": "markdown",
      "metadata": {
        "id": "Q93X6LjNP8aC"
      },
      "source": [
        "# Tarea 3 - Programación de Computadores Grupo 18 \n",
        "El objetivo de esta actividad es aplicar sus conocimientos en **Funciones** y **Cadenas de caracteres**."
      ]
    },
    {
      "cell_type": "markdown",
      "metadata": {
        "id": "7ue-nYMzrGpr"
      },
      "source": [
        "## Funciones (3.0)"
      ]
    },
    {
      "cell_type": "markdown",
      "source": [
        "1. Diseñe una función que encuentre las raices de una ecuación cuadrática. La función debe definir como parámetros las constantes de la ecuación. Considere los tres casos de solución: dos raices positivas, una raiz única y dos raices imaginarias. En el caso de que la solución sean números imaginarios, deben ser visualizados con el siguiente formato: `**val_1 \"+\" val_2 \"i\"**`"
      ],
      "metadata": {
        "id": "1WSD4ymf5r8n"
      }
    },
    {
      "cell_type": "code",
      "source": [
        "import math\n",
        "def cuadratica(a, b, c):\n",
        "  d=b**2\n",
        "  e=4*a*c\n",
        "  if(d>=e):\n",
        "    r=math.sqrt(b**2-4*a*c)\n",
        "    numerador1=(-b+r)/(2*a)\n",
        "    numerador2=(-b-r)/(2*a)\n",
        "    if(numerador1==numerador2):\n",
        "      return numerador1\n",
        "    else:\n",
        "      print(numerador1)\n",
        "      print(numerador2)\n",
        "  else:\n",
        "    n=-b/(2*a)\n",
        "    r=math.sqrt((4*a*c)-b**2)/(2*a)\n",
        "    print(n,\"+\", r, \"i\")\n",
        "    print(n,\"-\", r, \"i\")\n"
      ],
      "metadata": {
        "id": "QWxm-NUwhYfz"
      },
      "execution_count": null,
      "outputs": []
    },
    {
      "cell_type": "code",
      "source": [
        "cuadratica(8,5,9)"
      ],
      "metadata": {
        "colab": {
          "base_uri": "https://localhost:8080/"
        },
        "id": "cfV_TyJAlzwZ",
        "outputId": "6c2942cb-b264-4af7-b057-bf4988901472"
      },
      "execution_count": null,
      "outputs": [
        {
          "output_type": "stream",
          "name": "stdout",
          "text": [
            "-0.3125 + 1.0135796712641785 i\n",
            "-0.3125 - 1.0135796712641785 i\n"
          ]
        }
      ]
    },
    {
      "cell_type": "code",
      "source": [
        "cuadratica(8,15,8)"
      ],
      "metadata": {
        "colab": {
          "base_uri": "https://localhost:8080/"
        },
        "id": "IAM0w2hu3tdx",
        "outputId": "c55c968f-abc6-4563-9b57-dec17e708c70"
      },
      "execution_count": null,
      "outputs": [
        {
          "output_type": "stream",
          "name": "stdout",
          "text": [
            "-0.9375 + 16.027442286590833 i\n"
          ]
        }
      ]
    },
    {
      "cell_type": "code",
      "source": [
        "cuadratica(8,16,8)"
      ],
      "metadata": {
        "colab": {
          "base_uri": "https://localhost:8080/"
        },
        "id": "-SxE341Qb2pf",
        "outputId": "1c49d12e-c09e-4301-f81f-99e4a54417fd"
      },
      "execution_count": null,
      "outputs": [
        {
          "output_type": "execute_result",
          "data": {
            "text/plain": [
              "-1.0"
            ]
          },
          "metadata": {},
          "execution_count": 28
        }
      ]
    },
    {
      "cell_type": "markdown",
      "metadata": {
        "id": "vlKuAMhzl829"
      },
      "source": [
        "2. El número de contagiados de Covid-19 en el país de NuncaLandia actualmente es de 250, con una tasa de incremento diario del 2.2%. Usted debe diseñar un programa que calculé el número total de personas contagiadas después de D días. **Importante:** Defina los valores de C (contagiados actuales) y t (tasa de incremento) como argumentos por defecto."
      ]
    },
    {
      "cell_type": "code",
      "metadata": {
        "id": "y9WdcWEHmwzn"
      },
      "source": [
        "def contagios(D, C = 250, t = 0.022):\n",
        "  C=C*(1+t)**D\n",
        "  return int(C)"
      ],
      "execution_count": null,
      "outputs": []
    },
    {
      "cell_type": "code",
      "source": [
        "contagios(15)"
      ],
      "metadata": {
        "colab": {
          "base_uri": "https://localhost:8080/"
        },
        "id": "km2QYLrKcrbN",
        "outputId": "7cca11c4-ab9f-42bd-acc2-b6e6d2e2f320"
      },
      "execution_count": null,
      "outputs": [
        {
          "output_type": "execute_result",
          "data": {
            "text/plain": [
              "346"
            ]
          },
          "metadata": {},
          "execution_count": 28
        }
      ]
    },
    {
      "cell_type": "code",
      "source": [
        "contagios(15, t=0.04)"
      ],
      "metadata": {
        "colab": {
          "base_uri": "https://localhost:8080/"
        },
        "id": "gPDbWWXQfxgW",
        "outputId": "2eccb737-3808-408a-fc88-c3770dacade5"
      },
      "execution_count": null,
      "outputs": [
        {
          "output_type": "execute_result",
          "data": {
            "text/plain": [
              "450"
            ]
          },
          "metadata": {},
          "execution_count": 30
        }
      ]
    },
    {
      "cell_type": "markdown",
      "source": [
        "3. Diseñe una función para calcular los costos totales de un viaje. \n",
        "\n",
        "* En primer lugar, defina una función llamada *costo_hotel* que tiene como parámetro la cantidad de días de hospedaje (días). El costo por noche es de $70. \n",
        "* Posteriormente debe definir una función llamada *costo_avion* que tiene como parámetro de entrada la cuidad de destino (ciudad), y los costos están definidos por la siguiente tabla:  \n",
        "\n",
        "```\n",
        "Tunja: 183\n",
        "Medellín: 220\n",
        "Pasto: 222\n",
        "San Andrés: 475\n",
        "```\n",
        "\n",
        "* Después defina una función llamada *costo_renta_carro* con un parámento correspondiente a los días de renta. Para calcular el costo de renta del carro se debe tener en cuenta que cada día cuesta $50. Sin embargo, si los días de renta están entre 7 y 14 días, se aplica un descuento del 10% en el costo total. Por otra parte, si el carro se renta por 15 o más días se obtiene el descuento aumenta a 25%.  \n",
        "* Finalmente, defina una funcion llamada *costo_total_viaje* que utiliza los argumentos cuidad y días, y retorna la suma de los costos del viaje. **Importante:** Utilice dentro de la función final las funciones anteriormente definidas.\n"
      ],
      "metadata": {
        "id": "qToKIda7N7IL"
      }
    },
    {
      "cell_type": "code",
      "source": [
        "def costo_hotel(dias):\n",
        "  noche=70*dias\n",
        "  return noche\n",
        "\n",
        "\n",
        "\n",
        "    \n"
      ],
      "metadata": {
        "id": "0ELDJ1F5swPc"
      },
      "execution_count": null,
      "outputs": []
    },
    {
      "cell_type": "code",
      "source": [
        "costo_hotel(2)"
      ],
      "metadata": {
        "colab": {
          "base_uri": "https://localhost:8080/"
        },
        "id": "4fiQBNU0yrcO",
        "outputId": "772af824-c6c6-48f9-a2e2-391d5f6a5b59"
      },
      "execution_count": null,
      "outputs": [
        {
          "output_type": "execute_result",
          "data": {
            "text/plain": [
              "140"
            ]
          },
          "metadata": {},
          "execution_count": 79
        }
      ]
    },
    {
      "cell_type": "code",
      "source": [
        "def costo_avion(ciudad):\n",
        "  if ciudad==\"Tunja\":\n",
        "    ciudad=183\n",
        "    return ciudad\n",
        "  elif ciudad==\"Medellín\":\n",
        "    ciudad=220\n",
        "    return ciudad\n",
        "  elif ciudad==\"Pasto\":\n",
        "    ciudad=222\n",
        "    return ciudad\n",
        "  else:\n",
        "    ciudad=475\n",
        "    return ciudad"
      ],
      "metadata": {
        "id": "1wfz2RG2yHXG"
      },
      "execution_count": null,
      "outputs": []
    },
    {
      "cell_type": "code",
      "source": [
        "costo_avion(\"Tunja\")"
      ],
      "metadata": {
        "colab": {
          "base_uri": "https://localhost:8080/"
        },
        "id": "DvdM6ftCyjg-",
        "outputId": "c5617360-38e7-44e1-863f-6ded16e898da"
      },
      "execution_count": null,
      "outputs": [
        {
          "output_type": "execute_result",
          "data": {
            "text/plain": [
              "183"
            ]
          },
          "metadata": {},
          "execution_count": 77
        }
      ]
    },
    {
      "cell_type": "code",
      "source": [
        "def costo_renta_carro(dias):\n",
        "  if dias<7:\n",
        "    return dias*50\n",
        "  elif dias>=7 and dias<=14:\n",
        "    dias=dias*50\n",
        "    descuento=dias*0.1\n",
        "    precio=dias-descuento\n",
        "    return precio \n",
        "  else:\n",
        "    dias=dias*50\n",
        "    descuento=dias*0.25\n",
        "    precio=dias-descuento\n",
        "    return precio\n"
      ],
      "metadata": {
        "id": "icqM_aeqyF34"
      },
      "execution_count": null,
      "outputs": []
    },
    {
      "cell_type": "code",
      "source": [
        "costo_renta_carro(15)"
      ],
      "metadata": {
        "colab": {
          "base_uri": "https://localhost:8080/"
        },
        "id": "m_OKarzayPwH",
        "outputId": "aa3bc93c-1e9d-4abd-9ff5-118618dd317b"
      },
      "execution_count": null,
      "outputs": [
        {
          "output_type": "execute_result",
          "data": {
            "text/plain": [
              "562.5"
            ]
          },
          "metadata": {},
          "execution_count": 86
        }
      ]
    },
    {
      "cell_type": "code",
      "source": [
        "def costo_total_viaje(ciudad, dias):\n",
        "  h=costo_hotel(dias)\n",
        "  a=costo_avion(ciudad)\n",
        "  c=costo_renta_carro(dias)\n",
        "  return a+c+h\n",
        "  \n"
      ],
      "metadata": {
        "id": "VfkyFTXFZjKn"
      },
      "execution_count": null,
      "outputs": []
    },
    {
      "cell_type": "code",
      "source": [
        "costo_total_viaje(\"Tunja\", 30)"
      ],
      "metadata": {
        "colab": {
          "base_uri": "https://localhost:8080/"
        },
        "id": "5jxL4VeF0Fv9",
        "outputId": "0cbc3388-6369-4fdc-9575-c284a6e0173a"
      },
      "execution_count": null,
      "outputs": [
        {
          "output_type": "execute_result",
          "data": {
            "text/plain": [
              "3408.0"
            ]
          },
          "metadata": {},
          "execution_count": 102
        }
      ]
    },
    {
      "cell_type": "code",
      "source": [
        "costo_total_viaje(\"Pasto\", 15)"
      ],
      "metadata": {
        "colab": {
          "base_uri": "https://localhost:8080/"
        },
        "id": "g7jcHTI70z0-",
        "outputId": "db7ea6a5-6e9d-4a0c-b794-9e6e2ca44ad1"
      },
      "execution_count": null,
      "outputs": [
        {
          "output_type": "execute_result",
          "data": {
            "text/plain": [
              "1834.5"
            ]
          },
          "metadata": {},
          "execution_count": 103
        }
      ]
    },
    {
      "cell_type": "markdown",
      "metadata": {
        "id": "ftAxqf4Y-wvE"
      },
      "source": [
        "## Cadenas de caracteres (2.0)"
      ]
    },
    {
      "cell_type": "markdown",
      "metadata": {
        "id": "dH8dRsNasosP"
      },
      "source": [
        "4. Desarrollar un algoritmo que reciba dos cadenas de caracteres y determine si la primera está incluida en la segunda. Se dice que una cadena está incluida en otra, si todos los caracteres de la cadena está en la segunda cadena sin tener en cuenta el orden de los caracteres.\n",
        "\n",
        "  **Ejemplo:**\n",
        "```\n",
        "La cadena “prosa” está incluida en la cadena “la profesora de idiomas”.\n",
        "\n",
        "```"
      ]
    },
    {
      "cell_type": "code",
      "metadata": {
        "id": "2fvPzt_po1JY"
      },
      "source": [
        "def cadena_incluida(substring, string):\n",
        "  for i in substring:\n",
        "    if i in string:\n",
        "      pass\n",
        "    else:\n",
        "      return False\n",
        "  return True"
      ],
      "execution_count": null,
      "outputs": []
    },
    {
      "cell_type": "code",
      "source": [
        "cadena_incluida(\"prosa\", \"la profesora de idiomas\")"
      ],
      "metadata": {
        "colab": {
          "base_uri": "https://localhost:8080/"
        },
        "id": "jlunEvCryI1X",
        "outputId": "11352d04-98bb-4564-9e1c-10109fed9d56"
      },
      "execution_count": null,
      "outputs": [
        {
          "output_type": "execute_result",
          "data": {
            "text/plain": [
              "True"
            ]
          },
          "metadata": {},
          "execution_count": 277
        }
      ]
    },
    {
      "cell_type": "markdown",
      "source": [
        "5. Definir una función capaz de contrar la cantidad de vocales, consonantes y espacios en una frase. El resultado se debe visualizar de las siguiente manera:\n",
        "**Ejemplo**\n",
        "\n",
        "```\n",
        "Input: \"pythonlobby\"\n",
        "Output: La cantidad de vocales es: 2\n",
        "        La cantidad de consonantes es: 9\n",
        "        La cantidad de espacios es: 0\n",
        "```\n",
        "\n"
      ],
      "metadata": {
        "id": "wd0i_6CfeX4Z"
      }
    },
    {
      "cell_type": "code",
      "source": [
        "def contar(string):\n",
        "  vocales=0\n",
        "  espacios=0\n",
        "  consonantes=0\n",
        "  for i in string:\n",
        "    if i in \"aeiouAEIOU\":\n",
        "      vocales+=1\n",
        "    if i in \" \":\n",
        "      espacios+=1\n",
        "    if i in \"BCDFGHJKLMNÑPQRSTVXZWYbcdfghjklmnñpqrstvxzwy\":\n",
        "      consonantes+=1\n",
        "  print(f\"La cantidad de vocales es: {vocales}\\n\" f\"La cantidad de consonantes es: {consonantes}\\n\" f\"La cantidad de espacios es: {espacios}\")\n",
        "  return "
      ],
      "metadata": {
        "id": "6tVtTuOmcxn2"
      },
      "execution_count": null,
      "outputs": []
    },
    {
      "cell_type": "code",
      "source": [
        "(contar(\"programa\"))"
      ],
      "metadata": {
        "colab": {
          "base_uri": "https://localhost:8080/"
        },
        "id": "mkMoxH6ILRls",
        "outputId": "acf36944-d06f-4363-a287-f3f56e71275f"
      },
      "execution_count": null,
      "outputs": [
        {
          "output_type": "stream",
          "name": "stdout",
          "text": [
            "La cantidad de vocales es: 3\n",
            "La cantidad de consonantes es: 5\n",
            "La cantidad de espacios es: 0\n"
          ]
        }
      ]
    }
  ]
}
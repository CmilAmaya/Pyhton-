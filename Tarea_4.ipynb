{
  "nbformat": 4,
  "nbformat_minor": 0,
  "metadata": {
    "colab": {
      "name": "Tarea 4.ipynb",
      "provenance": [],
      "collapsed_sections": [],
      "include_colab_link": true
    },
    "kernelspec": {
      "name": "python3",
      "display_name": "Python 3"
    }
  },
  "cells": [
    {
      "cell_type": "markdown",
      "metadata": {
        "id": "view-in-github",
        "colab_type": "text"
      },
      "source": [
        "<a href=\"https://colab.research.google.com/github/CmilAmaya/Python-/blob/main/Tarea_4.ipynb\" target=\"_parent\"><img src=\"https://colab.research.google.com/assets/colab-badge.svg\" alt=\"Open In Colab\"/></a>"
      ]
    },
    {
      "cell_type": "markdown",
      "metadata": {
        "id": "Q93X6LjNP8aC"
      },
      "source": [
        "# Tarea 4 - Programación de Computadores Grupo 18 \n",
        "El objetivo de esta actividad es reforzar y aplicar sus conocimientos en **Listas**, **Tuplas**, **Matrices** y **Diccionarios**. La actividad está compuesta de *7* ejercicios, los cuales deben ser entregados en la plataforma de califiación automática UNCode.\n",
        "\n",
        "Fecha de entrega: **28 de enero de 2022**"
      ]
    },
    {
      "cell_type": "markdown",
      "metadata": {
        "id": "7ue-nYMzrGpr"
      },
      "source": [
        "## Listas (1.25)"
      ]
    },
    {
      "cell_type": "markdown",
      "source": [
        "1. **Productos entre vectores** Desarrollar un algoritmo que imprima el producto directo y el producto punto de dos vectores de números reales del mismo tamaño. Sean `v = [v_0, v_1, . . . , v_(n−1)]` y `w = [w_0,w_1, . . . ,w_(n−1)]` dos vectores, el producto directo de v y w es el vector: `[v_0 ∗ w_0, v_1 ∗ w_1, . . . , v_(n−1) ∗ w_(n−1)]` y el producto punto es el número: `v_0 ∗ w_0 + v_1 ∗ w_1 + · · · + v_(n−1) ∗ w_(n−1).`\n",
        "\n",
        "  **Ejemplo:**\n",
        "  ```\n",
        "  Input: [1,2], [2, 1]\n",
        "  Output: [2, 2] 4\n",
        "  ```"
      ],
      "metadata": {
        "id": "njsDAJa3VK1f"
      }
    },
    {
      "cell_type": "markdown",
      "source": [
        "**Pista:** Para recorrer dos objetos iterables simultáneamente se puede utilizar la siguiente sintaxis:\n",
        "```\n",
        "a = [1, 2]\n",
        "b = [\"Uno\", \"Dos\"]\n",
        "\n",
        "for numero, texto in zip(a, b):\n",
        "    print(\"Número\", numero, \"Letra\", texto)\n",
        "\n",
        "# Número 1 Letra Uno\n",
        "# Número 2 Letra Dos\n",
        "```"
      ],
      "metadata": {
        "id": "_Q-8sxIeFLAD"
      }
    },
    {
      "cell_type": "code",
      "source": [
        "def productos(v_1, v_2):\n",
        "  c = []\n",
        "  v1 = v_1\n",
        "  v2 = v_2\n",
        "  prod=0\n",
        "\n",
        "  for vec1, vec2 in zip(v1, v2):\n",
        "      prod=vec1*vec2\n",
        "      c.append(prod)\n",
        "      producto=0\n",
        "      for numero in c:\n",
        "          producto += numero\n",
        "  return c, producto\n"
      ],
      "metadata": {
        "id": "dHG5U5vBV59f"
      },
      "execution_count": null,
      "outputs": []
    },
    {
      "cell_type": "code",
      "source": [
        "productos([1,2], [2, 1])"
      ],
      "metadata": {
        "colab": {
          "base_uri": "https://localhost:8080/"
        },
        "id": "1YdmFcNmj2cj",
        "outputId": "01ef4fa0-7779-4c3c-b650-376a04a40139"
      },
      "execution_count": null,
      "outputs": [
        {
          "output_type": "execute_result",
          "data": {
            "text/plain": [
              "([2, 2], 4)"
            ]
          },
          "metadata": {},
          "execution_count": 31
        }
      ]
    },
    {
      "cell_type": "markdown",
      "source": [
        "2. **Mover ceros** Construir un algoritmo que desplace todos los ceros que aparezcan en un vector al final del mismo vector. El programa debe retornar el nuevo vector con los números del vector original seguidos de los ceros encontrados.\n",
        "\n",
        "  **Ejemplo:**\n",
        "  ```\n",
        "  Input: [0, 1, 2]\n",
        "  Output: [1, 2, 0]\n",
        "  ```"
      ],
      "metadata": {
        "id": "rY19HLAMbuP-"
      }
    },
    {
      "cell_type": "code",
      "source": [
        "def ceros(v):\n",
        "  cont = 0\n",
        "  a=[]\n",
        "  for i in v:\n",
        "      if( i == 0):\n",
        "        cont+=1\n",
        "      else:\n",
        "        a.append(i)\n",
        "  for s in range(cont):\n",
        "      a.append(0)\n",
        "  return a\n"
      ],
      "metadata": {
        "id": "C2e7oLTJcZ2W"
      },
      "execution_count": null,
      "outputs": []
    },
    {
      "cell_type": "code",
      "source": [
        "ceros([0, 0, 0, 40, 2, -100])"
      ],
      "metadata": {
        "colab": {
          "base_uri": "https://localhost:8080/"
        },
        "id": "_pI_zoV3nbTA",
        "outputId": "676c75c3-4d92-4554-b598-18ed057ab39c"
      },
      "execution_count": null,
      "outputs": [
        {
          "output_type": "execute_result",
          "data": {
            "text/plain": [
              "[40, 2, -100, 0, 0, 0]"
            ]
          },
          "metadata": {},
          "execution_count": 77
        }
      ]
    },
    {
      "cell_type": "markdown",
      "metadata": {
        "id": "ftAxqf4Y-wvE"
      },
      "source": [
        "## Tuplas (1.25)"
      ]
    },
    {
      "cell_type": "markdown",
      "source": [
        "3. **Lista de nombres:** Escribir una función que a partir de una lista de tuplas cada una con el siguiente formato: (*Apellido*, *Primer Nombre*, *Segundo Nombre*), retorne una lista de cadenas donde cada una contenga primero el nombre, luego la inicial del segundo nombre seguida de un punto, y finalmente el apellido.\n",
        "\n",
        "  **Ejemplo:**\n",
        "  ```\n",
        "  Input: [(Chaparro, Edna, Johanna), (Ramirez, Juanita, Pepita)]\n",
        "  Output: ['Edna J. Chaparro', 'Juanita P. Ramirez']\n",
        "  ```"
      ],
      "metadata": {
        "id": "Q7KINGfl9WqC"
      }
    },
    {
      "cell_type": "code",
      "source": [
        "def nombres(lista):\n",
        "    l=[]\n",
        "    nuevo=\"\"\n",
        "    for i in lista:\n",
        "        p_nombre=i[1]\n",
        "        s_nombre=i[2]\n",
        "        u_nombre=i[0]\n",
        "        nuevo=s_nombre[0]+\".\"\n",
        "        nombre=p_nombre + \" \" + nuevo +\" \"+ u_nombre\n",
        "        l.append(nombre)\n",
        "    return l\n",
        "\n",
        "  \n",
        "\n"
      ],
      "metadata": {
        "id": "8nKK9tJOASJi"
      },
      "execution_count": null,
      "outputs": []
    },
    {
      "cell_type": "code",
      "source": [
        "nombres([('Bernal', 'Egan', 'Arley'),\n",
        "         ('Quintana', 'Nairo', 'Alexander'),\n",
        "         ('Herrera', 'Luis', 'Alberto'),\n",
        "         ('López', 'Miguel', 'Ángel'),\n",
        "         ('Chaves', 'Jhoan', 'Esteban')])"
      ],
      "metadata": {
        "colab": {
          "base_uri": "https://localhost:8080/"
        },
        "id": "x6D5RvjFt8Py",
        "outputId": "20d50a8b-e149-4c69-c968-8c6e6aa6d69a"
      },
      "execution_count": null,
      "outputs": [
        {
          "output_type": "execute_result",
          "data": {
            "text/plain": [
              "['Egan A. Bernal',\n",
              " 'Nairo A. Quintana',\n",
              " 'Luis A. Herrera',\n",
              " 'Miguel Á. López',\n",
              " 'Jhoan E. Chaves']"
            ]
          },
          "metadata": {},
          "execution_count": 79
        }
      ]
    },
    {
      "cell_type": "markdown",
      "source": [
        "4. **Empaquetar listas:** Escribir una función que permita empaquetar los elementos de una listas, es decir, generar una lista de tuplas que indiquen la cantidad de repeticiones de números consecutivos *(elemento, repeticiones)*.  \n",
        "\n",
        "  **Ejemplo:**\n",
        "  ```\n",
        "  Input: [0, 0, 1, 0, 2]\n",
        "  Output: [(0, 2) , (1, 1) , (0, 1), (2, 1)]\n",
        "  ```\n",
        "\n"
      ],
      "metadata": {
        "id": "p3sEE89s9k8D"
      }
    },
    {
      "cell_type": "code",
      "source": [
        "def empaquetar(lista):\n",
        "  lista.append(0)\n",
        "  a = lista[0]\n",
        "  l_up=[]\n",
        "  b = 0\n",
        "  for i in range(len(lista)):\n",
        "      if a == lista[i]:\n",
        "        b+=1\n",
        "      else:\n",
        "        l_up.append((a,b))\n",
        "        a = lista[i]\n",
        "        b = 1\n",
        "  return l_up\n",
        " \n"
      ],
      "metadata": {
        "id": "TCivVOEReqpl"
      },
      "execution_count": 206,
      "outputs": []
    },
    {
      "cell_type": "code",
      "source": [
        "empaquetar([1, 1, 1, 3, 5, 1, 1, 3, 3])"
      ],
      "metadata": {
        "colab": {
          "base_uri": "https://localhost:8080/"
        },
        "id": "SARgCN_mK5e0",
        "outputId": "ae1b6aea-32d0-4b64-a8b7-a08d65d9e7c1"
      },
      "execution_count": 207,
      "outputs": [
        {
          "output_type": "execute_result",
          "data": {
            "text/plain": [
              "[(1, 3), (3, 1), (5, 1), (1, 2), (3, 2)]"
            ]
          },
          "metadata": {},
          "execution_count": 207
        }
      ]
    },
    {
      "cell_type": "code",
      "source": [
        "empaquetar([19, 19, 70, 80, 80, 51, 14, 25, 6, 6, 6, 6, 18])"
      ],
      "metadata": {
        "colab": {
          "base_uri": "https://localhost:8080/"
        },
        "id": "Q69P_RXDvd6R",
        "outputId": "784424ae-100c-4072-a59d-fc45421daf78"
      },
      "execution_count": 192,
      "outputs": [
        {
          "output_type": "execute_result",
          "data": {
            "text/plain": [
              "[(19, 2), (70, 1), (80, 2), (51, 1), (14, 1), (25, 1), (6, 4), (18, 1)]"
            ]
          },
          "metadata": {},
          "execution_count": 192
        }
      ]
    },
    {
      "cell_type": "code",
      "source": [
        "lista=[19, 19, 70, 80, 80, 51, 14, 25, 6, 6, 6, 6, 18]\n",
        "lista.append(0)\n",
        "a=lista[0]\n",
        "print(lista)\n",
        "print(a)"
      ],
      "metadata": {
        "colab": {
          "base_uri": "https://localhost:8080/"
        },
        "id": "opcivbXQWf5k",
        "outputId": "3f8cb135-fd72-4aca-de0a-0bb60d5f1283"
      },
      "execution_count": 195,
      "outputs": [
        {
          "output_type": "stream",
          "name": "stdout",
          "text": [
            "[19, 19, 70, 80, 80, 51, 14, 25, 6, 6, 6, 6, 18, 0]\n",
            "19\n"
          ]
        }
      ]
    },
    {
      "cell_type": "markdown",
      "source": [
        "# **Un algoritmo que recorra la lista de abajo para arriba :)**\n",
        "\n"
      ],
      "metadata": {
        "id": "-_bKhTn6MYl1"
      }
    },
    {
      "cell_type": "markdown",
      "source": [
        "## Matrices (1.25)"
      ],
      "metadata": {
        "id": "jRK_kEPwia98"
      }
    },
    {
      "cell_type": "markdown",
      "source": [
        "5. **Matriz mágica:** Desarrollar un algoritmo que determine si una matriz cuadrada se puede definir como mágica. Una matriz es mágica cuando las sumas de cada una sus filas, columnas y diagonales es el mismo valor. Si la matriz es mágica, el programa debe retornar el valor de las sumas, en el caso contrario se retorna el mensaje \"No es un matriz mágica\".\n",
        "\n",
        "  \n",
        "  **Ejemplo:** Matriz mágica \n",
        "  ```\n",
        "  Input: [[1, 1],[1, 1]]\n",
        "  Output: 2\n",
        "  ```\n",
        "  **Ejemplo:** Matriz no mágica\n",
        "  ```\n",
        "  Input: [[1, 2],[3, 4]]\n",
        "  Output: 'No es un matriz mágica'\n",
        "  ```"
      ],
      "metadata": {
        "id": "fC-XKJLj-nTc"
      }
    },
    {
      "cell_type": "code",
      "source": [
        "def matriz_magica(matriz):\n",
        "    for i in range(len(matriz)):\n",
        "        fila=sum(matriz[i])\n",
        "        for j in range(len(matriz[0])):\n",
        "            columna=sum(matriz[j])   \n",
        "    if len(matriz)>3:\n",
        "        diag=matriz[0][0]+matriz[1][1]+matriz[2][2]+matriz[3][3] \n",
        "    elif len(matriz)<=3:\n",
        "        diag=matriz[0][0]+matriz[1][1]+matriz[2][2]\n",
        "    if fila and columna == diag:\n",
        "      return fila\n",
        "    else:\n",
        "      return \"No es un matriz mágica\"\n",
        "        \n"
      ],
      "metadata": {
        "id": "yW_Adt7u-9nl"
      },
      "execution_count": null,
      "outputs": []
    },
    {
      "cell_type": "code",
      "source": [
        "matriz_magica([[1, 1, 1, 1],[1, 1, 1, 1],[1, 1, 1, 1], [1, 1, 1, 1]])"
      ],
      "metadata": {
        "colab": {
          "base_uri": "https://localhost:8080/"
        },
        "id": "rITtsy5s5WfH",
        "outputId": "7955ed21-dd61-46a1-ceee-5a7a5a87f376"
      },
      "execution_count": null,
      "outputs": [
        {
          "output_type": "execute_result",
          "data": {
            "text/plain": [
              "4"
            ]
          },
          "metadata": {},
          "execution_count": 3
        }
      ]
    },
    {
      "cell_type": "code",
      "source": [
        "matriz_magica([[2, 1, 3],[3, 2, 1],[1, 3, 2]])\n"
      ],
      "metadata": {
        "colab": {
          "base_uri": "https://localhost:8080/"
        },
        "id": "dMKr0ai8wdpy",
        "outputId": "e449b363-1183-4837-cba1-72130a0a1ef1"
      },
      "execution_count": null,
      "outputs": [
        {
          "output_type": "execute_result",
          "data": {
            "text/plain": [
              "6"
            ]
          },
          "metadata": {},
          "execution_count": 138
        }
      ]
    },
    {
      "cell_type": "code",
      "source": [
        "matriz_magica([[8, 1, 6],[3, 5, 7],[4, 9, 2]])"
      ],
      "metadata": {
        "colab": {
          "base_uri": "https://localhost:8080/"
        },
        "id": "e0_MJkz0zj7B",
        "outputId": "72012d7a-2d16-4a3c-dc3c-ed38ff22673d"
      },
      "execution_count": null,
      "outputs": [
        {
          "output_type": "execute_result",
          "data": {
            "text/plain": [
              "15"
            ]
          },
          "metadata": {},
          "execution_count": 139
        }
      ]
    },
    {
      "cell_type": "code",
      "source": [
        "matriz_magica([[1, 2, 1, 3],[11, 21, -1, 1],[1, 0, 1, 34], [13, 5, 61, 10]])"
      ],
      "metadata": {
        "colab": {
          "base_uri": "https://localhost:8080/",
          "height": 35
        },
        "id": "rdJuf0cK2Ig4",
        "outputId": "c5f84307-ebe9-4c8c-d50c-43a98d2b2783"
      },
      "execution_count": null,
      "outputs": [
        {
          "output_type": "execute_result",
          "data": {
            "application/vnd.google.colaboratory.intrinsic+json": {
              "type": "string"
            },
            "text/plain": [
              "'No es un matriz mágica'"
            ]
          },
          "metadata": {},
          "execution_count": 4
        }
      ]
    },
    {
      "cell_type": "markdown",
      "source": [
        "## Diccionarios (1.25)"
      ],
      "metadata": {
        "id": "cxtjMdnJia4l"
      }
    },
    {
      "cell_type": "markdown",
      "source": [
        "6. **Mezcla de diccionarios:** Desarrollar una función que retorne la mezcla de dos diccionarios, es decir, que el diccionario final contenga las etiquetas (*keys*) de los dos diccionarios. En el caso de que exista una clave repetida en ambos diccionarios, se debe asignar el valor del primer diccionario.\n",
        "\n",
        "  **Ejemplo:**\n",
        "  ```\n",
        "  Input: {1: 'manzana', 2: 'naranja'}, {1: 'pera'}\n",
        "  Output: {1: 'manzana', 2: 'naranja'}\n",
        "  ```"
      ],
      "metadata": {
        "id": "MA1rpqu8-v5K"
      }
    },
    {
      "cell_type": "code",
      "source": [
        "def mezclar(D1, D2):\n",
        "    D2.update(D1)\n",
        "    D1.update(D2)\n",
        "    return D1\n"
      ],
      "metadata": {
        "id": "XMjXnoOs-7wC"
      },
      "execution_count": null,
      "outputs": []
    },
    {
      "cell_type": "code",
      "source": [
        "mezclar({1: 'manzana', 2: 'naranja'}, {1: 'pera'})"
      ],
      "metadata": {
        "colab": {
          "base_uri": "https://localhost:8080/"
        },
        "id": "Mvmk5RFv35Dq",
        "outputId": "186b526d-0918-4b6d-fe1c-8b6e030ebb1c"
      },
      "execution_count": null,
      "outputs": [
        {
          "output_type": "execute_result",
          "data": {
            "text/plain": [
              "{1: 'manzana', 2: 'naranja'}"
            ]
          },
          "metadata": {},
          "execution_count": 154
        }
      ]
    },
    {
      "cell_type": "code",
      "source": [
        "mezclar({1: 'manzana', 2: 'naranja'}, {1: 'pera', 3: 'uva'})"
      ],
      "metadata": {
        "colab": {
          "base_uri": "https://localhost:8080/"
        },
        "id": "MjzaHtfa-H0o",
        "outputId": "8603e33e-eafe-489a-8f3c-d02069404228"
      },
      "execution_count": null,
      "outputs": [
        {
          "output_type": "execute_result",
          "data": {
            "text/plain": [
              "{1: 'manzana', 2: 'naranja', 3: 'uva'}"
            ]
          },
          "metadata": {},
          "execution_count": 156
        }
      ]
    },
    {
      "cell_type": "markdown",
      "source": [
        "7. **Familia Madrigal:** Desarrollar un programa que dada una lista de diccionarios, los cuales representan los integrantes de la Familia Madrigal con el siguiente formato: `{\"nombres\":\"Maribel\", \"apellidos\":\"Madrigal\", \"edad\":15}`, imprima una lista con los nombres y apellidos de las personas que están en un rango de edades específico."
      ],
      "metadata": {
        "id": "dB__y-tS-yai"
      }
    },
    {
      "cell_type": "code",
      "source": [
        "def edades(min, max, familia):\n",
        "  dic={}\n",
        "  a=[]\n",
        "  for i in familia:\n",
        "      dic[\"miembro\"]=i\n",
        "      for s in dic:\n",
        "        e=dic[s][\"edad\"]\n",
        "        if e>=min and e<=max:\n",
        "            n=dic[s][\"nombres\"] +\" \"+ dic[s][\"apellidos\"]\n",
        "            a.append(n)    \n",
        "        else:\n",
        "          pass\n",
        "  return a\n",
        "            \n",
        "  \n"
      ],
      "metadata": {
        "id": "sTcHuWJ3IkwO"
      },
      "execution_count": 186,
      "outputs": []
    },
    {
      "cell_type": "code",
      "source": [
        "familia_Madrigal = [{\"nombres\":\"Maribel\", \"apellidos\":\"Madrigal\", \"edad\":15}, {\"nombres\":\"Antonio\", \"apellidos\":\"Madrigal\", \"edad\":5}, {\"nombres\":\"Pepa\", \"apellidos\":\"Madrigal\", \"edad\":50}, {\"nombres\":\"Camilo\", \"apellidos\":\"Madrigal\", \"edad\":15}, {\"nombres\":\"Félix\", \"apellidos\":\"Madrigal\", \"edad\":52}, {\"nombres\":\"Dolores\", \"apellidos\":\"Madrigal\", \"edad\":21}, {\"nombres\":\"Isabela\", \"apellidos\":\"Madrigal\", \"edad\":21}, {\"nombres\":\"Luisa\", \"apellidos\":\"Madrigal\", \"edad\":18}, {\"nombres\":\"Julieta\", \"apellidos\":\"Madrigal\", \"edad\":50}, {\"nombres\":\"Agustín\", \"apellidos\":\"Madrigal\", \"edad\":50}, {\"nombres\":\"Alma\", \"apellidos\":\"Madrigal\", \"edad\":75}, {\"nombres\":\"Bruno\", \"apellidos\":\"Madrigal\", \"edad\":50}] \n",
        "edades(27, 59, familia_Madrigal)"
      ],
      "metadata": {
        "colab": {
          "base_uri": "https://localhost:8080/"
        },
        "id": "JC3teW4GMqTT",
        "outputId": "736c87b5-b397-41e0-89c2-4ecdc7ad9190"
      },
      "execution_count": 187,
      "outputs": [
        {
          "output_type": "execute_result",
          "data": {
            "text/plain": [
              "['Pepa Madrigal',\n",
              " 'Félix Madrigal',\n",
              " 'Julieta Madrigal',\n",
              " 'Agustín Madrigal',\n",
              " 'Bruno Madrigal']"
            ]
          },
          "metadata": {},
          "execution_count": 187
        }
      ]
    },
    {
      "cell_type": "code",
      "source": [
        "familia_Madrigal = [{\"nombres\":\"Maribel\", \"apellidos\":\"Madrigal\", \"edad\":15}, {\"nombres\":\"Antonio\", \"apellidos\":\"Madrigal\", \"edad\":5}, {\"nombres\":\"Pepa\", \"apellidos\":\"Madrigal\", \"edad\":50}, {\"nombres\":\"Camilo\", \"apellidos\":\"Madrigal\", \"edad\":15}, {\"nombres\":\"Félix\", \"apellidos\":\"Madrigal\", \"edad\":52}, {\"nombres\":\"Dolores\", \"apellidos\":\"Madrigal\", \"edad\":21}, {\"nombres\":\"Isabela\", \"apellidos\":\"Madrigal\", \"edad\":21}, {\"nombres\":\"Luisa\", \"apellidos\":\"Madrigal\", \"edad\":18}, {\"nombres\":\"Julieta\", \"apellidos\":\"Madrigal\", \"edad\":50}, {\"nombres\":\"Agustín\", \"apellidos\":\"Madrigal\", \"edad\":50}, {\"nombres\":\"Alma\", \"apellidos\":\"Madrigal\", \"edad\":75}, {\"nombres\":\"Bruno\", \"apellidos\":\"Madrigal\", \"edad\":50}] \n",
        "edades(0, 5, familia_Madrigal)"
      ],
      "metadata": {
        "colab": {
          "base_uri": "https://localhost:8080/"
        },
        "id": "NBFWTmJ8Qfr5",
        "outputId": "b6437d9f-aab1-406a-d0b6-35e48b8e33f3"
      },
      "execution_count": 188,
      "outputs": [
        {
          "output_type": "execute_result",
          "data": {
            "text/plain": [
              "['Antonio Madrigal']"
            ]
          },
          "metadata": {},
          "execution_count": 188
        }
      ]
    }
  ]
}
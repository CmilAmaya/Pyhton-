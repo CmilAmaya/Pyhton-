{
  "nbformat": 4,
  "nbformat_minor": 0,
  "metadata": {
    "colab": {
      "name": "Copia de Parcial 2.ipynb",
      "provenance": [],
      "collapsed_sections": [],
      "include_colab_link": true
    },
    "kernelspec": {
      "name": "python3",
      "display_name": "Python 3"
    }
  },
  "cells": [
    {
      "cell_type": "markdown",
      "metadata": {
        "id": "view-in-github",
        "colab_type": "text"
      },
      "source": [
        "<a href=\"https://colab.research.google.com/github/CmilAmaya/Python-/blob/main/Parcial_2.ipynb\" target=\"_parent\"><img src=\"https://colab.research.google.com/assets/colab-badge.svg\" alt=\"Open In Colab\"/></a>"
      ]
    },
    {
      "cell_type": "markdown",
      "metadata": {
        "id": "Q93X6LjNP8aC"
      },
      "source": [
        "# Parcial 2 - Programación de Computadores Grupo 18 \n",
        "El objetivo de esta actividad es aplicar sus conocimientos en programación de computadores en Python. Los conceptos aplicados en esta actividad son:\n",
        "*   Listas\n",
        "*   Tuplas\n",
        "*   Matrices\n",
        "*   Diccionarios\n",
        "*   Conjuntos\n",
        "\n"
      ]
    },
    {
      "cell_type": "markdown",
      "source": [
        "1. Desarrollar un programa que compare dos listas e identifique los elementos tiene la primer lista que no tenga la segunda lista. El programa debe retornar una lista con los elementos identificandos.\n",
        "\n",
        "  **Ejemplo:**\n",
        "  ```\n",
        "  Input: [1, 2], [2, 3]\n",
        "  Outpu: [1]\n",
        "  ```"
      ],
      "metadata": {
        "id": "a2nafFf6LKpj"
      }
    },
    {
      "cell_type": "code",
      "source": [
        "def diferencia(lista_1, lista_2):\n",
        "  lista=[]\n",
        "  for s in lista_1:\n",
        "        if s not in lista_2:\n",
        "          lista.append(s)\n",
        "        else:\n",
        "          pass\n",
        "  return lista"
      ],
      "metadata": {
        "id": "N28mZsay2Uph"
      },
      "execution_count": null,
      "outputs": []
    },
    {
      "cell_type": "code",
      "source": [
        "diferencia([1, 2, 3, 4, 5, 6, 7, 8], [0, 2, 4, 6, 8])"
      ],
      "metadata": {
        "colab": {
          "base_uri": "https://localhost:8080/"
        },
        "outputId": "382b19c7-556f-4857-ddae-720f2978595b",
        "id": "ilklnm1ZUsoq"
      },
      "execution_count": null,
      "outputs": [
        {
          "output_type": "execute_result",
          "data": {
            "text/plain": [
              "[1, 3, 5, 7]"
            ]
          },
          "metadata": {},
          "execution_count": 38
        }
      ]
    },
    {
      "cell_type": "markdown",
      "source": [
        "2. Construir una función que indique si dos fichas de dominó encajan o no. Los valores de las fichas son representados por tuplas. En el caso en que las fichas encajen se debe retornar el mensaje 'SI'. En el caso contrario, el mensaje debe ser 'NO'.\n",
        "\n",
        "   **Ejemplo:**\n",
        "  ```\n",
        "  Input: (3,4),(5,4)\n",
        "  Outpu: 'SI'\n",
        "  ```\n",
        "  ```\n",
        "  Input: (3,0),(5,4)\n",
        "  Outpu: 'NO'\n",
        "  ```"
      ],
      "metadata": {
        "id": "LRlmftVa89SL"
      }
    },
    {
      "cell_type": "code",
      "source": [
        "def domino(ficha_1, ficha_2):\n",
        "    a=\"SI\"\n",
        "    b=\"NO\"\n",
        "    if ficha_1[0]==ficha_2[0]:\n",
        "      print(a)\n",
        "    elif ficha_1[0]==ficha_2[1]:\n",
        "      print(a)\n",
        "    elif ficha_1[1]==ficha_2[1]:\n",
        "      print(a)\n",
        "    else:\n",
        "      print(b)\n",
        "  "
      ],
      "metadata": {
        "id": "e49idHgI-ccy"
      },
      "execution_count": null,
      "outputs": []
    },
    {
      "cell_type": "code",
      "source": [
        "domino((3,4),(5,4))"
      ],
      "metadata": {
        "colab": {
          "base_uri": "https://localhost:8080/"
        },
        "id": "0F14AdQRl5X3",
        "outputId": "2230cbc4-79b6-4037-aba3-81589270d624"
      },
      "execution_count": null,
      "outputs": [
        {
          "output_type": "stream",
          "name": "stdout",
          "text": [
            "SI\n"
          ]
        }
      ]
    },
    {
      "cell_type": "markdown",
      "source": [
        "3. Desarrollar un algoritmo que sume dos matrices de números\n",
        "reales.\n",
        "\n",
        "   **Ejemplo:**\n",
        "  ```\n",
        "  Input: [[0, 1],[1, 0]], [[1, 0],[0, 1]]\n",
        "  Outpu: [[1, 1],[1, 1]]\n",
        "  ```\n"
      ],
      "metadata": {
        "id": "a4-VzKccFRec"
      }
    },
    {
      "cell_type": "code",
      "source": [
        "def sumar(M1, M2):\n",
        "    s=[]\n",
        "    for i in range(len(M1)):\n",
        "        s.append([])\n",
        "        for j in range(len(M1[0])):\n",
        "            s[i].append(0)\n",
        "    for i in range(len(s)):\n",
        "        for j in range(len(s[0])):\n",
        "            s[i][j] = M1[i][j] + M2[i][j]\n",
        "    return s\n",
        "    \n",
        "  \n"
      ],
      "metadata": {
        "id": "HzRmWV0xiviJ"
      },
      "execution_count": null,
      "outputs": []
    },
    {
      "cell_type": "code",
      "source": [
        "sumar([[1, 5],[3, 1]], [[2, 1],[1, 10]])"
      ],
      "metadata": {
        "colab": {
          "base_uri": "https://localhost:8080/"
        },
        "id": "1hJtxUnFWFg0",
        "outputId": "183dc78e-4dda-4f37-8197-21508b7b7221"
      },
      "execution_count": null,
      "outputs": [
        {
          "output_type": "execute_result",
          "data": {
            "text/plain": [
              "[]"
            ]
          },
          "metadata": {},
          "execution_count": 143
        }
      ]
    },
    {
      "cell_type": "markdown",
      "source": [
        "4. Diseñar un programa que retorne un diccionario que contiene claves/etiquetas del 1 a n, con valores que coresponden al cuadrado de la etiqueta, es decir que las parejas tengan la forma `(x, x*x)`.\n",
        "\n",
        "  **Ejemplo:**\n",
        "  ```\n",
        "  Input: 2\n",
        "  Output : {1: 1, 2: 4}\n",
        "  ```"
      ],
      "metadata": {
        "id": "sqeZD2MJQooT"
      }
    },
    {
      "cell_type": "code",
      "source": [
        "def diccionario(n):\n",
        "    p = {}\n",
        "    for i in range(n):\n",
        "        i += 1\n",
        "        p[i] = i**2\n",
        "    return(p)"
      ],
      "metadata": {
        "id": "CWKGq99oQlDd"
      },
      "execution_count": null,
      "outputs": []
    },
    {
      "cell_type": "code",
      "source": [
        "diccionario(2)"
      ],
      "metadata": {
        "colab": {
          "base_uri": "https://localhost:8080/"
        },
        "id": "RxX50WtSl0wk",
        "outputId": "62a48c13-a15b-4260-d792-5dceeda73c7a"
      },
      "execution_count": null,
      "outputs": [
        {
          "output_type": "execute_result",
          "data": {
            "text/plain": [
              "{1: 1, 2: 4}"
            ]
          },
          "metadata": {},
          "execution_count": 139
        }
      ]
    },
    {
      "cell_type": "markdown",
      "source": [
        "5. Desarrollar un programa que retorne una tupla con los valores máximos y mínimos de un conjunto.\n",
        "\n",
        "  **Ejemplo:**\n",
        "  ```\n",
        "  Input: {1, 2, 3}\n",
        "  Output : (3, 1)\n",
        "  ```"
      ],
      "metadata": {
        "id": "7z1bX272UknM"
      }
    },
    {
      "cell_type": "code",
      "source": [
        "def valores(conjunto):\n",
        "    return(max(conjunto), min(conjunto))"
      ],
      "metadata": {
        "id": "0bq9tUSeUphM"
      },
      "execution_count": null,
      "outputs": []
    }
  ]
}
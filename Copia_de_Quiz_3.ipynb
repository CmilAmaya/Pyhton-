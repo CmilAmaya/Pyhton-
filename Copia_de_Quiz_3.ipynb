{
  "nbformat": 4,
  "nbformat_minor": 0,
  "metadata": {
    "colab": {
      "name": "Copia de Quiz 3.ipynb",
      "provenance": [],
      "collapsed_sections": [],
      "include_colab_link": true
    },
    "kernelspec": {
      "name": "python3",
      "display_name": "Python 3"
    }
  },
  "cells": [
    {
      "cell_type": "markdown",
      "metadata": {
        "id": "view-in-github",
        "colab_type": "text"
      },
      "source": [
        "<a href=\"https://colab.research.google.com/github/CmilAmaya/Python-/blob/main/Copia_de_Quiz_3.ipynb\" target=\"_parent\"><img src=\"https://colab.research.google.com/assets/colab-badge.svg\" alt=\"Open In Colab\"/></a>"
      ]
    },
    {
      "cell_type": "markdown",
      "metadata": {
        "id": "Q93X6LjNP8aC"
      },
      "source": [
        "# Quiz 3 - Programación de Computadores Grupo 18 \n",
        "El objetivo de esta actividad es aplicar sus conocimientos en **Listas**, **Tuplas** y **Matrices**. La actividad está compuesta de *3* ejercicios, los cuales deben ser entregados en la plataforma de calificación automática UNCode."
      ]
    },
    {
      "cell_type": "markdown",
      "metadata": {
        "id": "bnqhSW1uhCbK"
      },
      "source": [
        "# 1. Listas (0.33)\n",
        "Desarrollar un algoritmo que calcule el promedio de los elementos de un vector de números reales.\n",
        "  \n",
        "  **Ejemplo:**\n",
        "  ```\n",
        "  Input: [1, 1]\n",
        "  Output: 1\n",
        "  ```"
      ]
    },
    {
      "cell_type": "code",
      "source": [
        "def promedio(vector):\n",
        "  suma=0\n",
        "  for i in vector:\n",
        "      suma +=i\n",
        "  prom=suma/len(vector)\n",
        "  return prom\n"
      ],
      "metadata": {
        "id": "UdtHmbfeVGov"
      },
      "execution_count": null,
      "outputs": []
    },
    {
      "cell_type": "code",
      "source": [
        "promedio([1,2,1])"
      ],
      "metadata": {
        "colab": {
          "base_uri": "https://localhost:8080/"
        },
        "id": "kl3-o0c5_MXx",
        "outputId": "515c1c6b-5dbc-45da-9583-7f3d8e1c16dd"
      },
      "execution_count": null,
      "outputs": [
        {
          "output_type": "execute_result",
          "data": {
            "text/plain": [
              "1.3333333333333333"
            ]
          },
          "metadata": {},
          "execution_count": 9
        }
      ]
    },
    {
      "cell_type": "markdown",
      "source": [
        "# 2. Tuplas (0.34)\n",
        "Construir un programa que verifique si todos los elementos en una tupla son iguales. Cuando todos los elementos son iguales se debe retornar el elemento, en el caso contrario debe retorna el mensaje \"Los elementos son diferentes\".\n",
        "  \n",
        "  **Ejemplo:**\n",
        "  ```\n",
        "  Input: (2, 2)\n",
        "  Output: 2\n",
        "  ```"
      ],
      "metadata": {
        "id": "ZltIOIZ0kBcP"
      }
    },
    {
      "cell_type": "code",
      "source": [
        "def iguales(tupla):\n",
        "  n=0\n",
        "  s=0\n",
        "  for i in range(len(tupla)):\n",
        "    if n == tupla[i]:\n",
        "      s += 1\n",
        "    else:\n",
        "      pass\n",
        "    n = tupla[i] \n",
        "  if s == len(tupla)-1:\n",
        "    return(tupla[i])\n",
        "  else:\n",
        "    return(\"Los elementos son diferentes\")   \n",
        "\n",
        "      \n",
        "    \n",
        "      \n"
      ],
      "metadata": {
        "id": "ZU3gDsjS6XSm"
      },
      "execution_count": null,
      "outputs": []
    },
    {
      "cell_type": "code",
      "source": [
        "iguales((2,2,2,2))"
      ],
      "metadata": {
        "colab": {
          "base_uri": "https://localhost:8080/"
        },
        "id": "aKQcSnHfCEV0",
        "outputId": "e55292a2-c6c0-4860-ba9f-4605db5eafc5"
      },
      "execution_count": null,
      "outputs": [
        {
          "output_type": "execute_result",
          "data": {
            "text/plain": [
              "2"
            ]
          },
          "metadata": {},
          "execution_count": 55
        }
      ]
    },
    {
      "cell_type": "markdown",
      "source": [
        "#3. Matrices (0.33)\n",
        "Desarrollar un programa que sume los elementos de una sola columna de una matriz numérica. \n",
        "\n",
        "  **Ejemplo:**\n",
        "  ```\n",
        "  Input: 1, [[1, 2], [1, 2]]\n",
        "  Output: 4\n",
        "  ```\n"
      ],
      "metadata": {
        "id": "1q3R6RQRlr6h"
      }
    },
    {
      "cell_type": "code",
      "source": [
        "def suma_columna(col, M):\n",
        "  i=col\n",
        "  suma=0\n",
        "  columna = [fila[i] for fila in M]\n",
        "  for s in columna:\n",
        "      suma+=s\n",
        "  return suma "
      ],
      "metadata": {
        "id": "VJiPrHpdW5Ar"
      },
      "execution_count": null,
      "outputs": []
    },
    {
      "cell_type": "code",
      "source": [
        "suma_columna( 1, [[1, 2], [1, 2]])"
      ],
      "metadata": {
        "colab": {
          "base_uri": "https://localhost:8080/"
        },
        "id": "PPnUo5IIECED",
        "outputId": "0a9ffe8a-3d3f-4e6a-d6e2-a01cc17a959c"
      },
      "execution_count": null,
      "outputs": [
        {
          "output_type": "stream",
          "name": "stdout",
          "text": [
            "[2, 2]\n"
          ]
        },
        {
          "output_type": "execute_result",
          "data": {
            "text/plain": [
              "4"
            ]
          },
          "metadata": {},
          "execution_count": 53
        }
      ]
    }
  ]
}
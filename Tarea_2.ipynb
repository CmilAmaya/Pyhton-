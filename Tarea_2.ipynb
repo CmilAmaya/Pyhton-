{
  "nbformat": 4,
  "nbformat_minor": 0,
  "metadata": {
    "colab": {
      "name": "Copia de Tarea 2.ipynb",
      "provenance": [],
      "collapsed_sections": [],
      "include_colab_link": true
    },
    "kernelspec": {
      "name": "python3",
      "display_name": "Python 3"
    }
  },
  "cells": [
    {
      "cell_type": "markdown",
      "metadata": {
        "id": "view-in-github",
        "colab_type": "text"
      },
      "source": [
        "<a href=\"https://colab.research.google.com/github/CmilAmaya/Pyhton-/blob/main/Tarea_2.ipynb\" target=\"_parent\"><img src=\"https://colab.research.google.com/assets/colab-badge.svg\" alt=\"Open In Colab\"/></a>"
      ]
    },
    {
      "cell_type": "markdown",
      "metadata": {
        "id": "Q93X6LjNP8aC"
      },
      "source": [
        "# Tarea 2 - Programación de Computadores Grupo 18 \n",
        "El objetivo de esta actividad es aplicar sus conocimientos en **Estructuras condicionales** y **Estructuras iterativas**."
      ]
    },
    {
      "cell_type": "markdown",
      "metadata": {
        "id": "7ue-nYMzrGpr"
      },
      "source": [
        "## Condicionales"
      ]
    },
    {
      "cell_type": "markdown",
      "metadata": {
        "id": "naRvc432tHUn"
      },
      "source": [
        "1. Dado el centro y el radio de un círculo, determinar si un punto de ℝ^2 pertenece o no al interior del círculo. En el caso positivo mostrar el mensaje: \"Si está dentro del círculo\" y en el caso contrario \"No está dentro del círculo\". Recuerde la ecuación de la circunferencia (x-a)² + (y-b)² = r². "
      ]
    },
    {
      "cell_type": "code",
      "metadata": {
        "id": "Azn5fE6UyLLy"
      },
      "source": [
        "def punto_circulo(a, b, r, x, y):\n",
        "  minX=(a-r)\n",
        "  maxX=(a+r)\n",
        "  minY=(b-r)\n",
        "  maxY=(b+r)\n",
        "  resp=\"\"\n",
        "  if(minX<x<maxX and minY<y<maxY):\n",
        "    resp=\"Si está dentro del círculo\"\n",
        "  else:\n",
        "    resp=\"No está dentro del círculo\"\n",
        "  return resp\n"
      ],
      "execution_count": null,
      "outputs": []
    },
    {
      "cell_type": "code",
      "metadata": {
        "colab": {
          "base_uri": "https://localhost:8080/",
          "height": 53
        },
        "id": "C4m8OXW2x_ZB",
        "outputId": "5376062f-1d3d-4d4d-f6c3-c9c3587d5338"
      },
      "source": [
        "punto_circulo(3, 5, 6, 6, 10)"
      ],
      "execution_count": null,
      "outputs": [
        {
          "output_type": "stream",
          "name": "stdout",
          "text": [
            "3 5 -3 9 -1 11\n"
          ]
        },
        {
          "output_type": "execute_result",
          "data": {
            "application/vnd.google.colaboratory.intrinsic+json": {
              "type": "string"
            },
            "text/plain": [
              "'Si está dentro del círculo'"
            ]
          },
          "metadata": {},
          "execution_count": 27
        }
      ]
    },
    {
      "cell_type": "markdown",
      "metadata": {
        "id": "Yb8_AeUptKNH"
      },
      "source": [
        "2. Dadas tres longitudes positivas A, B y C determinar si con esas longitudes se puede construir un triángulo. En el caso positivo mostrar el mensaje: \"Construyen un triángulo\" y en el caso contrario \"No construyen un triángulo\"."
      ]
    },
    {
      "cell_type": "code",
      "metadata": {
        "id": "d5H2M6G9HWb0"
      },
      "source": [
        "def triangulo(A, B, C):\n",
        "  resp=\"\"\n",
        "  if(A+B>C):\n",
        "    resp=\"Construyen un triángulo\"\n",
        "  else:\n",
        "    resp=\"No construyen un triángulo\"\n",
        "  return resp"
      ],
      "execution_count": null,
      "outputs": []
    },
    {
      "cell_type": "code",
      "metadata": {
        "colab": {
          "base_uri": "https://localhost:8080/",
          "height": 35
        },
        "id": "95mAKyeP0pGs",
        "outputId": "3c553790-be91-4297-8cc2-bd83e39ca186"
      },
      "source": [
        "triangulo(5.9,6.8,15)"
      ],
      "execution_count": null,
      "outputs": [
        {
          "output_type": "execute_result",
          "data": {
            "application/vnd.google.colaboratory.intrinsic+json": {
              "type": "string"
            },
            "text/plain": [
              "'No construyen un triángulo'"
            ]
          },
          "metadata": {},
          "execution_count": 23
        }
      ]
    },
    {
      "cell_type": "markdown",
      "metadata": {
        "id": "0nuf1-l5bRLC"
      },
      "source": [
        "## Ciclos *while*"
      ]
    },
    {
      "cell_type": "markdown",
      "metadata": {
        "id": "OCVcvrP_dDMI"
      },
      "source": [
        "3. Diseñar una función que permita calcular el épsilon (ϵ) de la máquina. El épsilon de máquina es el número decimal más pequeño que sumado a 1 se puede representar de manera precisa en la máquina (que no es redondeado), es decir retorna un valor diferente de 1, éste da una idea de la precisión o número de cifras reales que pueden ser almacenadas en la máquina. La idea es realizar un ciclo en el cual se realiza la operación 1 + ϵ para potencias de 2 desde  ϵ = 2^0 y continuando con potencias decrecientes de 2 (ϵ = 2^−1, ϵ = 2−2, ϵ = 2−3, ϵ = 2−4, . . .) hasta obtener que el resultado de la suma 1 + ϵ no se altere."
      ]
    },
    {
      "cell_type": "code",
      "metadata": {
        "id": "XtoXaxUSiCvk"
      },
      "source": [
        "def epsilon():\n",
        "  eps=1\n",
        "  while(1+eps>1):\n",
        "    eps=eps/2\n",
        "  return (eps/2)"
      ],
      "execution_count": null,
      "outputs": []
    },
    {
      "cell_type": "code",
      "metadata": {
        "colab": {
          "base_uri": "https://localhost:8080/"
        },
        "id": "-84_EUd-4tad",
        "outputId": "3de6ef61-bc7a-4811-b30c-322abe32dc69"
      },
      "source": [
        "epsilon()"
      ],
      "execution_count": null,
      "outputs": [
        {
          "output_type": "execute_result",
          "data": {
            "text/plain": [
              "5.551115123125783e-17"
            ]
          },
          "metadata": {},
          "execution_count": 4
        }
      ]
    },
    {
      "cell_type": "markdown",
      "metadata": {
        "id": "ftAxqf4Y-wvE"
      },
      "source": [
        "## Ciclo *for*"
      ]
    },
    {
      "cell_type": "markdown",
      "metadata": {
        "id": "7APw4aht_k1D"
      },
      "source": [
        "4. Imprimir los números pares en forma descendente hasta 2 que son menores o iguales a un número natural (n). El valor de n siempre va a ser mayor o igual a 2.\n",
        "\n",
        "**Ejemplo**\n",
        "```\n",
        "Input: 11\n",
        "Output: 10\n",
        "        8\n",
        "        6\n",
        "        4\n",
        "        2\n",
        "\n",
        "```\n",
        "\n"
      ]
    },
    {
      "cell_type": "code",
      "metadata": {
        "id": "_0i6uQaFA6DI"
      },
      "source": [
        "def lista_descendente(n):\n",
        "  for i in range(n, 1, -1):\n",
        "    if(i%2==0):\n",
        "      print(i)\n"
      ],
      "execution_count": null,
      "outputs": []
    },
    {
      "cell_type": "code",
      "metadata": {
        "colab": {
          "base_uri": "https://localhost:8080/"
        },
        "id": "o3d-mu2FkGGf",
        "outputId": "4611b01f-9079-4713-bd1b-2d3db085b9c3"
      },
      "source": [
        "lista_descendente(12)"
      ],
      "execution_count": null,
      "outputs": [
        {
          "output_type": "stream",
          "name": "stdout",
          "text": [
            "12\n",
            "10\n",
            "8\n",
            "6\n",
            "4\n",
            "2\n"
          ]
        }
      ]
    },
    {
      "cell_type": "markdown",
      "metadata": {
        "id": "Skxl1E9g_3v1"
      },
      "source": [
        "5. Definir el procedimiento para calcular la potencia x^n sin utilizar el operador (**). Asuma que el exponente n siempre va a ser un número entero positivo."
      ]
    },
    {
      "cell_type": "code",
      "metadata": {
        "id": "L9KvcFM_A90L"
      },
      "source": [
        "def potencia(x, n):\n",
        "  resp=1\n",
        "  for i in range(1, n+1):\n",
        "    resp=resp*x\n",
        "    \n",
        "  return resp"
      ],
      "execution_count": null,
      "outputs": []
    },
    {
      "cell_type": "code",
      "metadata": {
        "colab": {
          "base_uri": "https://localhost:8080/"
        },
        "id": "WX6pm92ap20U",
        "outputId": "5a73c4f9-e925-4f18-9c6f-a592e053811c"
      },
      "source": [
        "potencia(5,2)"
      ],
      "execution_count": null,
      "outputs": [
        {
          "output_type": "execute_result",
          "data": {
            "text/plain": [
              "25"
            ]
          },
          "metadata": {},
          "execution_count": 103
        }
      ]
    },
    {
      "cell_type": "markdown",
      "metadata": {
        "id": "tQOAt7qf__5V"
      },
      "source": [
        "6. Definir el procedimiento para visualizar las tablas de multiplicar del 1 a un número n. Los valores deben estar organizados en forma de tabla y separados por tabulaciones (utilice el comando \"\\t\")\n",
        "\n",
        "**Ejemplo**\n",
        "```\n",
        "Input: 3\n",
        "Output: 1\t2\t3\t\n",
        "        2\t4\t6\t\n",
        "        3\t6\t9\t\n",
        "```"
      ]
    },
    {
      "cell_type": "code",
      "metadata": {
        "id": "G2bIh4fLA-ZJ"
      },
      "source": [
        "def tablas(n):\n",
        " for i in range(1,n+1):\n",
        "   for s in range(1,n+1):\n",
        "    print(i*s, end=\"\\t\")"
      ],
      "execution_count": null,
      "outputs": []
    },
    {
      "cell_type": "code",
      "metadata": {
        "colab": {
          "base_uri": "https://localhost:8080/"
        },
        "id": "LgpVcsSVrdrm",
        "outputId": "8370f3aa-9d76-4021-a469-631368bb11c0"
      },
      "source": [
        "tablas(3)"
      ],
      "execution_count": null,
      "outputs": [
        {
          "output_type": "stream",
          "name": "stdout",
          "text": [
            "1\t2\t3\t2\t4\t6\t3\t6\t9\t"
          ]
        }
      ]
    }
  ]
}
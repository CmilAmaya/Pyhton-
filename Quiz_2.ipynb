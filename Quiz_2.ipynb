{
  "nbformat": 4,
  "nbformat_minor": 0,
  "metadata": {
    "colab": {
      "name": "Copia de Quiz 2.ipynb",
      "provenance": [],
      "collapsed_sections": [],
      "include_colab_link": true
    },
    "kernelspec": {
      "name": "python3",
      "display_name": "Python 3"
    }
  },
  "cells": [
    {
      "cell_type": "markdown",
      "metadata": {
        "id": "view-in-github",
        "colab_type": "text"
      },
      "source": [
        "<a href=\"https://colab.research.google.com/github/CmilAmaya/Python-/blob/main/Quiz_2.ipynb\" target=\"_parent\"><img src=\"https://colab.research.google.com/assets/colab-badge.svg\" alt=\"Open In Colab\"/></a>"
      ]
    },
    {
      "cell_type": "markdown",
      "metadata": {
        "id": "Q93X6LjNP8aC"
      },
      "source": [
        "# Quiz 2 - Programación de Computadores Grupo 18 \n",
        "El objetivo de esta actividad es aplicar sus conocimientos en **Funciones** y **Cadenas de caracteres**. Adicionalmente, esta diseñada para familizarizarse con el juez virtual en linea de la plataforma de UNcode. "
      ]
    },
    {
      "cell_type": "markdown",
      "metadata": {
        "id": "bnqhSW1uhCbK"
      },
      "source": [
        "## **Funciones**"
      ]
    },
    {
      "cell_type": "markdown",
      "metadata": {
        "id": "Iw-HtsuXl5Ao"
      },
      "source": [
        "## 1. Calculo del pedido (0.34)\n",
        "Mi mamá me manda a comprar P panes a \\$300 cada uno, M bolsas de leche a \\$3300 cada una y H huevos a \\$350 cada uno. Hacer un programa que me diga las vueltas (o lo que quedo debiendo) cuando me da un billete de B pesos."
      ]
    },
    {
      "cell_type": "code",
      "metadata": {
        "id": "3vsgMJgE6xE5"
      },
      "source": [
        "def mandado(P, M, H, B):\n",
        "  val_P=300\n",
        "  val_M=3300\n",
        "  val_H=350\n",
        "  valorP=val_P*P\n",
        "  valorM=val_M*M\n",
        "  valorH=val_H*H\n",
        "  suma=valorP+valorM+valorH\n",
        "  B=B-suma\n",
        "  return B\n"
      ],
      "execution_count": null,
      "outputs": []
    },
    {
      "cell_type": "code",
      "metadata": {
        "colab": {
          "base_uri": "https://localhost:8080/"
        },
        "id": "tXITNNp4AZ8g",
        "outputId": "dd5bd0ec-f901-4249-ab57-85552da69821"
      },
      "source": [
        "mandado(1,1,1,1000)"
      ],
      "execution_count": null,
      "outputs": [
        {
          "output_type": "execute_result",
          "data": {
            "text/plain": [
              "-2950"
            ]
          },
          "metadata": {},
          "execution_count": 53
        }
      ]
    },
    {
      "cell_type": "markdown",
      "metadata": {
        "id": "z72I4K8A95cn"
      },
      "source": [
        "## **Cadenas de caracteres**"
      ]
    },
    {
      "cell_type": "markdown",
      "metadata": {
        "id": "_fDU1SK_je1p"
      },
      "source": [
        "##2. Palíndorme (0.33)\n",
        "Desarrollar un algoritmo que determine si una cadena de caracteres es palíndrome. Una cadena se dice palíndrome si al invertirla es igual a ella misma. En el caso positivo, visualizar el mensaje: \"Es palíndrome\" y en el caso contrario visualizar: \"No es palíndrome\"\n",
        "  \n",
        "  **Ejemplos:**\n",
        "```\n",
        "“ala” es palíndrome.\n",
        "```"
      ]
    },
    {
      "cell_type": "code",
      "metadata": {
        "id": "H0Y4Rm8bo3X1"
      },
      "source": [
        "def palindrome(frase):\n",
        "  frase_invertida=frase[::-1]\n",
        "  if(frase==frase_invertida):\n",
        "    respuesta=\"Es palíndrome\"\n",
        "  else:\n",
        "    respuesta=\"No es palíndrome\"\n",
        "  return respuesta"
      ],
      "execution_count": null,
      "outputs": []
    },
    {
      "cell_type": "code",
      "metadata": {
        "colab": {
          "base_uri": "https://localhost:8080/",
          "height": 35
        },
        "id": "CaN1QsG08RAN",
        "outputId": "90f8e08f-3206-43e3-9d14-292b3ffe64a1"
      },
      "source": [
        "palindrome(\"lol1\")"
      ],
      "execution_count": null,
      "outputs": [
        {
          "output_type": "execute_result",
          "data": {
            "application/vnd.google.colaboratory.intrinsic+json": {
              "type": "string"
            },
            "text/plain": [
              "'No es palídrome'"
            ]
          },
          "metadata": {},
          "execution_count": 50
        }
      ]
    },
    {
      "cell_type": "markdown",
      "metadata": {
        "id": "-YThAJvhjsFR"
      },
      "source": [
        "##3. Frase palíndrome(0.33)\n",
        "Desarrollar un algoritmo que determina si una cadena de caracteres es frase palíndrome, esto es, si es palíndrome al eliminarle espacios, signos de puntuación y al considerar mayúsculas = minúsculas. En el caso positivo, visualizar el mensaje: \"Es palíndrome\" y en el caso contrario visualizar: \"No es palíndrome\".\n",
        "\n",
        "**Pista:** Puede utilizar la función palindrome definida antes. \n",
        "\n",
        "  **Ejemplos:**\n",
        "```\n",
        "“Anula las alas a la luna” es frase palíndrome.\n",
        "```"
      ]
    },
    {
      "cell_type": "code",
      "metadata": {
        "id": "Hkhb8rMSo40u"
      },
      "source": [
        "def palindrome2(frase):\n",
        "  frase=frase.lower()\n",
        "  frase=frase.replace(\" \", \"\")\n",
        "  frase=frase.replace(\",\", \"\")\n",
        "  frase_invertida=frase[::-1]\n",
        "  if(frase==frase_invertida):\n",
        "    respuesta=\"Es palíndrome\"\n",
        "  else:\n",
        "    respuesta=\"No es palíndrome\"\n",
        "  return respuesta\n",
        "\n"
      ],
      "execution_count": null,
      "outputs": []
    },
    {
      "cell_type": "code",
      "metadata": {
        "colab": {
          "base_uri": "https://localhost:8080/",
          "height": 35
        },
        "id": "B4_JTC6BFy43",
        "outputId": "61769077-06ba-4879-ace4-4ddd0d654583"
      },
      "source": [
        "palindrome2(\"Anita, lava la tina\")"
      ],
      "execution_count": null,
      "outputs": [
        {
          "output_type": "execute_result",
          "data": {
            "application/vnd.google.colaboratory.intrinsic+json": {
              "type": "string"
            },
            "text/plain": [
              "'Es palíndrome'"
            ]
          },
          "metadata": {},
          "execution_count": 105
        }
      ]
    }
  ]
}